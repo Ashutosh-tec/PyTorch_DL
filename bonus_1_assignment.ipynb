{
 "cells": [
  {
   "cell_type": "code",
   "execution_count": 35,
   "metadata": {},
   "outputs": [
    {
     "data": {
      "text/plain": [
       "<torch._C.Generator at 0x7f2b90fe1ae0>"
      ]
     },
     "execution_count": 35,
     "metadata": {},
     "output_type": "execute_result"
    }
   ],
   "source": [
    "from sklearn.datasets import fetch_california_housing\n",
    "from sklearn.model_selection import train_test_split\n",
    "from sklearn.preprocessing import StandardScaler\n",
    "import torch\n",
    "import torch.nn as nn\n",
    "import torch.nn.functional as F\n",
    "torch.manual_seed(42)"
   ]
  },
  {
   "cell_type": "code",
   "execution_count": 36,
   "metadata": {},
   "outputs": [],
   "source": [
    "# Load the California Housing dataset\n",
    "california_housing = fetch_california_housing()\n",
    "data = california_housing.data\n",
    "target = california_housing.target"
   ]
  },
  {
   "cell_type": "code",
   "execution_count": 37,
   "metadata": {},
   "outputs": [
    {
     "data": {
      "text/plain": [
       "(['MedInc',\n",
       "  'HouseAge',\n",
       "  'AveRooms',\n",
       "  'AveBedrms',\n",
       "  'Population',\n",
       "  'AveOccup',\n",
       "  'Latitude',\n",
       "  'Longitude'],\n",
       " 8)"
      ]
     },
     "execution_count": 37,
     "metadata": {},
     "output_type": "execute_result"
    }
   ],
   "source": [
    "california_housing.feature_names, len(california_housing.feature_names)"
   ]
  },
  {
   "cell_type": "code",
   "execution_count": 38,
   "metadata": {},
   "outputs": [],
   "source": [
    "train_x, test_x, train_y, test_y = train_test_split(data, target, test_size=0.2, random_state=42)\n"
   ]
  },
  {
   "cell_type": "code",
   "execution_count": 39,
   "metadata": {},
   "outputs": [
    {
     "data": {
      "text/plain": [
       "(-0.9211376319711084, 0.6044549279675977)"
      ]
     },
     "execution_count": 39,
     "metadata": {},
     "output_type": "execute_result"
    }
   ],
   "source": [
    "# Initialize StandardScaler\n",
    "scaler = StandardScaler()\n",
    "\n",
    "# Fit and transform the training data\n",
    "X_train_scaled = scaler.fit_transform(train_x)\n",
    "\n",
    "# Transform the test data using the fitted scaler\n",
    "X_test_scaled = scaler.transform(test_x)\n",
    "\n",
    "# Find the minimum and maximum feature values of the last test data point\n",
    "X_test_scaled[-1].min(), X_test_scaled[-1].max()\n"
   ]
  },
  {
   "cell_type": "code",
   "execution_count": 40,
   "metadata": {},
   "outputs": [],
   "source": [
    "feature_x = torch.tensor(X_train_scaled, dtype=torch.float32)\n",
    "test_feature_x = torch.tensor(X_test_scaled, dtype=torch.float32)\n",
    "label = torch.tensor(train_y.reshape(-1,1), dtype=torch.float32)\n",
    "test_label = torch.tensor(test_y.reshape(-1,1), dtype=torch.float32)\n"
   ]
  },
  {
   "cell_type": "code",
   "execution_count": 41,
   "metadata": {},
   "outputs": [
    {
     "data": {
      "text/plain": [
       "(torch.Size([16512, 8]), torch.Size([16512, 1]))"
      ]
     },
     "execution_count": 41,
     "metadata": {},
     "output_type": "execute_result"
    }
   ],
   "source": [
    "feature_x.shape, label.shape"
   ]
  },
  {
   "cell_type": "code",
   "execution_count": 51,
   "metadata": {},
   "outputs": [],
   "source": [
    "class RegressionANN(nn.Module):\n",
    "    def __init__(self, num_hidden):\n",
    "        super(RegressionANN, self).__init__()\n",
    "        # Set the random seed\n",
    "        torch.manual_seed(42)\n",
    "        self.layer1 = nn.Linear(8,num_hidden)\n",
    "        self.layer2 = nn.Linear(num_hidden,1)\n",
    "        self.num_hidden = num_hidden\n",
    "    \n",
    "    def forward(self, data_point):\n",
    "        activation1 = F.relu(self.layer1(data_point))\n",
    "        output = self.layer2(activation1)\n",
    "        return output\n"
   ]
  },
  {
   "cell_type": "code",
   "execution_count": 67,
   "metadata": {},
   "outputs": [],
   "source": [
    "model = RegressionANN(num_hidden=16)"
   ]
  },
  {
   "cell_type": "code",
   "execution_count": 68,
   "metadata": {},
   "outputs": [
    {
     "name": "stdout",
     "output_type": "stream",
     "text": [
      "RegressionANN(\n",
      "  (layer1): Linear(in_features=8, out_features=16, bias=True)\n",
      "  (layer2): Linear(in_features=16, out_features=1, bias=True)\n",
      ")\n"
     ]
    }
   ],
   "source": [
    "print(model)"
   ]
  },
  {
   "cell_type": "code",
   "execution_count": 69,
   "metadata": {},
   "outputs": [
    {
     "data": {
      "text/plain": [
       "0.22723788022994995"
      ]
     },
     "execution_count": 69,
     "metadata": {},
     "output_type": "execute_result"
    }
   ],
   "source": [
    "model.layer2.bias.data.item()\n",
    "# 0.22723788022994995"
   ]
  },
  {
   "cell_type": "code",
   "execution_count": 70,
   "metadata": {},
   "outputs": [
    {
     "data": {
      "text/plain": [
       "tensor([ 0.2964, -0.0702,  0.3042,  0.1102, -0.2994,  0.2447, -0.0973, -0.1355,\n",
       "        -0.2935, -0.3515,  0.1012, -0.0772,  0.1376, -0.2901,  0.2625, -0.2595])"
      ]
     },
     "execution_count": 70,
     "metadata": {},
     "output_type": "execute_result"
    }
   ],
   "source": [
    "model.layer1.bias.data"
   ]
  },
  {
   "cell_type": "code",
   "execution_count": 71,
   "metadata": {},
   "outputs": [],
   "source": [
    "loss_func = nn.MSELoss()\n",
    "optimizer = torch.optim.Adam(model.parameters(), lr = 0.01)"
   ]
  },
  {
   "cell_type": "code",
   "execution_count": 72,
   "metadata": {},
   "outputs": [
    {
     "name": "stdout",
     "output_type": "stream",
     "text": [
      "Adam (\n",
      "Parameter Group 0\n",
      "    amsgrad: False\n",
      "    betas: (0.9, 0.999)\n",
      "    eps: 1e-08\n",
      "    lr: 0.01\n",
      "    weight_decay: 0\n",
      ")\n",
      "{'state': {}, 'param_groups': [{'lr': 0.01, 'betas': (0.9, 0.999), 'eps': 1e-08, 'weight_decay': 0, 'amsgrad': False, 'params': [0, 1, 2, 3]}]}\n"
     ]
    }
   ],
   "source": [
    "# Print optimizer object to see its attributes\n",
    "print(optimizer)\n",
    "\n",
    "# Get optimizer state dictionary\n",
    "optimizer_state_dict = optimizer.state_dict()\n",
    "print(optimizer_state_dict)"
   ]
  },
  {
   "cell_type": "code",
   "execution_count": 57,
   "metadata": {},
   "outputs": [],
   "source": [
    "# output = model(feature_x)\n",
    "\n",
    "# loss_function = loss_func(output, label)\n",
    "\n",
    "# loss_function.item()\n",
    "# # 4.202902793884277"
   ]
  },
  {
   "cell_type": "code",
   "execution_count": 73,
   "metadata": {},
   "outputs": [
    {
     "name": "stdout",
     "output_type": "stream",
     "text": [
      "Epoch [10/100], Loss: 2.3334\n",
      "Epoch [20/100], Loss: 1.1195\n",
      "Epoch [30/100], Loss: 0.8087\n",
      "Epoch [40/100], Loss: 0.7287\n",
      "Epoch [50/100], Loss: 0.6495\n",
      "Epoch [60/100], Loss: 0.6001\n",
      "Epoch [70/100], Loss: 0.5567\n",
      "Epoch [80/100], Loss: 0.5241\n",
      "Epoch [90/100], Loss: 0.4970\n",
      "Epoch [100/100], Loss: 0.4750\n"
     ]
    },
    {
     "data": {
      "text/plain": [
       "0.47498172521591187"
      ]
     },
     "execution_count": 73,
     "metadata": {},
     "output_type": "execute_result"
    }
   ],
   "source": [
    "epochs = 100\n",
    "\n",
    "for epoch in range(epochs):\n",
    "    # zero grad\n",
    "    optimizer.zero_grad()\n",
    "\n",
    "    # forward pass\n",
    "    output = model(feature_x)\n",
    "\n",
    "    # compute loss\n",
    "    loss = loss_func(output, label)\n",
    "\n",
    "    # back_prop\n",
    "    loss.backward()\n",
    "\n",
    "    # update parameter\n",
    "    optimizer.step()\n",
    "    # print loss every 10 epochs\n",
    "    if (epoch + 1) % 10 == 0:\n",
    "        print(f\"Epoch [{epoch+1}/{epochs}], Loss: {loss.item():.4f}\")\n",
    "\n",
    "\n",
    "#  hidden 16 -> Loss: 0.4750\n",
    "#  hidden 64 -> Loss: 6.6225\n",
    "loss.item()"
   ]
  },
  {
   "cell_type": "code",
   "execution_count": 62,
   "metadata": {},
   "outputs": [
    {
     "data": {
      "text/plain": [
       "0.4150702953338623"
      ]
     },
     "execution_count": 62,
     "metadata": {},
     "output_type": "execute_result"
    }
   ],
   "source": [
    "#  64 neuron in hidden layer\n",
    "model64 = RegressionANN(num_hidden=64)\n",
    "loss_fn = nn.MSELoss()\n",
    "optimizer = torch.optim.Adam(model64.parameters(), lr = 0.01)\n",
    "for _ in range(100):\n",
    "        optimizer.zero_grad()\n",
    "        y_pred = model64(feature_x)\n",
    "\n",
    "        loss = loss_fn(y_pred, label)\n",
    "        loss.backward()\n",
    "        optimizer.step()\n",
    "loss.item()"
   ]
  },
  {
   "cell_type": "code",
   "execution_count": null,
   "metadata": {},
   "outputs": [],
   "source": []
  }
 ],
 "metadata": {
  "kernelspec": {
   "display_name": "dl_env",
   "language": "python",
   "name": "dl_env"
  },
  "language_info": {
   "codemirror_mode": {
    "name": "ipython",
    "version": 3
   },
   "file_extension": ".py",
   "mimetype": "text/x-python",
   "name": "python",
   "nbconvert_exporter": "python",
   "pygments_lexer": "ipython3",
   "version": "3.6.5"
  }
 },
 "nbformat": 4,
 "nbformat_minor": 2
}
