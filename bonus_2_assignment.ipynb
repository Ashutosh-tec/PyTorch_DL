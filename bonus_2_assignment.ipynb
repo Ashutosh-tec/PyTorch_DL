{
  "cells": [
    {
      "cell_type": "code",
      "execution_count": 1,
      "metadata": {
        "id": "4Fnxzw0APgXO"
      },
      "outputs": [],
      "source": [
        "import torch"
      ]
    },
    {
      "cell_type": "code",
      "execution_count": 2,
      "metadata": {
        "colab": {
          "base_uri": "https://localhost:8080/"
        },
        "id": "Sj5JeWppPgXX",
        "outputId": "64166933-ee23-4ed9-f6ba-751924ce6a81"
      },
      "outputs": [
        {
          "output_type": "execute_result",
          "data": {
            "text/plain": [
              "True"
            ]
          },
          "metadata": {},
          "execution_count": 2
        }
      ],
      "source": [
        "torch.cuda.is_available()"
      ]
    },
    {
      "cell_type": "code",
      "execution_count": 3,
      "metadata": {
        "colab": {
          "base_uri": "https://localhost:8080/"
        },
        "id": "wHaccLPGPgXa",
        "outputId": "913419ef-a04e-43a2-a488-e70fd81fab0a"
      },
      "outputs": [
        {
          "output_type": "execute_result",
          "data": {
            "text/plain": [
              "_CudaDeviceProperties(name='Tesla T4', major=7, minor=5, total_memory=15102MB, multi_processor_count=40)"
            ]
          },
          "metadata": {},
          "execution_count": 3
        }
      ],
      "source": [
        "torch.cuda.get_device_properties(0)"
      ]
    },
    {
      "cell_type": "code",
      "execution_count": 4,
      "metadata": {
        "id": "dYqXVEdIPgXb"
      },
      "outputs": [],
      "source": [
        "import torch\n",
        "import torch.nn as nn\n",
        "import torch.nn.functional as F\n",
        "import torch.optim as optim\n",
        "import torchvision\n",
        "import torchvision.transforms as transforms\n",
        "from torch.utils.data import DataLoader\n",
        "\n",
        "import matplotlib.pyplot as plt\n",
        "import numpy as np\n",
        "torch.manual_seed(42)\n",
        "\n",
        "\n",
        "device = torch.device('cuda:0')"
      ]
    },
    {
      "cell_type": "code",
      "execution_count": 5,
      "metadata": {
        "colab": {
          "base_uri": "https://localhost:8080/"
        },
        "id": "ZefTds5cPgXd",
        "outputId": "77b05cce-000a-4444-a913-ba14044287d2"
      },
      "outputs": [
        {
          "output_type": "stream",
          "name": "stdout",
          "text": [
            "['CIFAR10', 'CIFAR100', 'CLEVRClassification', 'CREStereo', 'Caltech101', 'Caltech256', 'CarlaStereo', 'CelebA', 'Cityscapes', 'CocoCaptions', 'CocoDetection', 'Country211', 'DTD', 'DatasetFolder', 'EMNIST', 'ETH3DStereo', 'EuroSAT', 'FER2013', 'FGVCAircraft', 'FakeData', 'FallingThingsStereo', 'FashionMNIST', 'Flickr30k', 'Flickr8k', 'Flowers102', 'FlyingChairs', 'FlyingThings3D', 'Food101', 'GTSRB', 'HD1K', 'HMDB51', 'INaturalist', 'ImageFolder', 'ImageNet', 'Imagenette', 'InStereo2k', 'KMNIST', 'Kinetics', 'Kitti', 'Kitti2012Stereo', 'Kitti2015Stereo', 'KittiFlow', 'LFWPairs', 'LFWPeople', 'LSUN', 'LSUNClass', 'MNIST', 'Middlebury2014Stereo', 'MovingMNIST', 'Omniglot', 'OxfordIIITPet', 'PCAM', 'PhotoTour', 'Places365', 'QMNIST', 'RenderedSST2', 'SBDataset', 'SBU', 'SEMEION', 'STL10', 'SUN397', 'SVHN', 'SceneFlowStereo', 'Sintel', 'SintelStereo', 'StanfordCars', 'UCF101', 'USPS', 'VOCDetection', 'VOCSegmentation', 'VisionDataset', 'WIDERFace', '__all__', '__builtins__', '__cached__', '__doc__', '__file__', '__getattr__', '__loader__', '__name__', '__package__', '__path__', '__spec__', '_optical_flow', '_stereo_matching', 'caltech', 'celeba', 'cifar', 'cityscapes', 'clevr', 'coco', 'country211', 'dtd', 'eurosat', 'fakedata', 'fer2013', 'fgvc_aircraft', 'flickr', 'flowers102', 'folder', 'food101', 'gtsrb', 'hmdb51', 'imagenet', 'imagenette', 'inaturalist', 'kinetics', 'kitti', 'lfw', 'lsun', 'mnist', 'moving_mnist', 'omniglot', 'oxford_iiit_pet', 'pcam', 'phototour', 'places365', 'rendered_sst2', 'sbd', 'sbu', 'semeion', 'stanford_cars', 'stl10', 'sun397', 'svhn', 'ucf101', 'usps', 'utils', 'video_utils', 'vision', 'voc', 'widerface']\n"
          ]
        }
      ],
      "source": [
        "print(dir(torchvision.datasets))"
      ]
    },
    {
      "cell_type": "code",
      "execution_count": 6,
      "metadata": {
        "colab": {
          "base_uri": "https://localhost:8080/"
        },
        "id": "uMUWtw8CPgXf",
        "outputId": "2a89d1c7-35a8-4e6b-c00c-c039c42e4abd"
      },
      "outputs": [
        {
          "output_type": "stream",
          "name": "stdout",
          "text": [
            "Downloading https://www.cs.toronto.edu/~kriz/cifar-10-python.tar.gz to ./data/cifar-10-python.tar.gz\n"
          ]
        },
        {
          "output_type": "stream",
          "name": "stderr",
          "text": [
            "100%|██████████| 170498071/170498071 [00:04<00:00, 40730952.22it/s]\n"
          ]
        },
        {
          "output_type": "stream",
          "name": "stdout",
          "text": [
            "Extracting ./data/cifar-10-python.tar.gz to ./data\n",
            "Files already downloaded and verified\n"
          ]
        }
      ],
      "source": [
        "transform = transforms.Compose(\n",
        "    [transforms.ToTensor(), transforms.Normalize((0.5,0.5,0.5),(0.5,0.5,0.5))]\n",
        ")\n",
        "\n",
        "trainset = torchvision.datasets.CIFAR10(root=\"./data\", train=True, download = True, transform = transform)\n",
        "testset = torchvision.datasets.CIFAR10(root=\"./data\", train=False, download = True, transform = transform)"
      ]
    },
    {
      "cell_type": "code",
      "execution_count": 7,
      "metadata": {
        "colab": {
          "base_uri": "https://localhost:8080/"
        },
        "id": "-rhA5GX6PgXg",
        "outputId": "cd170417-2238-4371-e6da-2fa7d5646361"
      },
      "outputs": [
        {
          "output_type": "execute_result",
          "data": {
            "text/plain": [
              "((50000, 32, 32, 3), torch.Size([3, 32, 32]))"
            ]
          },
          "metadata": {},
          "execution_count": 7
        }
      ],
      "source": [
        "sample,_ = trainset[0]\n",
        "\n",
        "trainset.data.shape, torch.Size(sample.size())"
      ]
    },
    {
      "cell_type": "code",
      "execution_count": 8,
      "metadata": {
        "id": "WAU_EuMoPgXk"
      },
      "outputs": [],
      "source": [
        "trainloader = DataLoader(trainset, batch_size=100, shuffle = True)\n",
        "testloader = DataLoader(testset, batch_size=100, shuffle = False)"
      ]
    },
    {
      "cell_type": "code",
      "execution_count": 9,
      "metadata": {
        "id": "UaaDLiI-PgXl"
      },
      "outputs": [],
      "source": [
        "class CNN_arch(nn.Module):\n",
        "    def __init__(self):\n",
        "        torch.manual_seed(42)\n",
        "        super(CNN_arch, self).__init__()\n",
        "        self.conv1 = nn.Conv2d(in_channels=3,out_channels=6,kernel_size=5)\n",
        "        self.pool = nn.MaxPool2d(kernel_size=2, stride=2)\n",
        "        self.conv2= nn.Conv2d(in_channels=6, out_channels=16, kernel_size=5)\n",
        "\n",
        "        # reason for 16*5*5 is in def forward\n",
        "        self.fc1 = nn.Linear(16*5*5, 120)\n",
        "        self.fc2 = nn.Linear(120, 84)\n",
        "        self.fc3 = nn.Linear(84, 10)\n",
        "\n",
        "    def forward(self, x):\n",
        "        # 32*32*3 -> input size\n",
        "        x_conv1 = self.pool(F.relu(self.conv1(x)))\n",
        "        # 28*28*6 out from conv1\n",
        "        # 14*14*6 out from pool after conv1\n",
        "        x_conv2 = self.pool(F.relu(self.conv2(x_conv1)))\n",
        "        # 10*10*16 out from conv2\n",
        "        # 5*5*16 out from pool after conv2\n",
        "        x_flat = x_conv2.view(-1, 16*5*5)\n",
        "        x_fc_1 = F.relu(self.fc1(x_flat))\n",
        "        x_fc_2 = F.relu(self.fc2(x_fc_1))\n",
        "        out = self.fc3(x_fc_2)\n",
        "        return out\n",
        "\n"
      ]
    },
    {
      "cell_type": "code",
      "execution_count": 14,
      "metadata": {
        "colab": {
          "base_uri": "https://localhost:8080/"
        },
        "id": "cXmEZR-pPgXm",
        "outputId": "53abafdd-815f-4fe4-8a12-c82fc13daa38"
      },
      "outputs": [
        {
          "output_type": "stream",
          "name": "stdout",
          "text": [
            "CNN_arch(\n",
            "  (conv1): Conv2d(3, 6, kernel_size=(5, 5), stride=(1, 1))\n",
            "  (pool): MaxPool2d(kernel_size=2, stride=2, padding=0, dilation=1, ceil_mode=False)\n",
            "  (conv2): Conv2d(6, 16, kernel_size=(5, 5), stride=(1, 1))\n",
            "  (fc1): Linear(in_features=400, out_features=120, bias=True)\n",
            "  (fc2): Linear(in_features=120, out_features=84, bias=True)\n",
            "  (fc3): Linear(in_features=84, out_features=10, bias=True)\n",
            ")\n"
          ]
        }
      ],
      "source": [
        "model = CNN_arch().to(device) # move model to gpu\n",
        "# model = CNN_arch()\n",
        "print(model)\n",
        "Loss = nn.CrossEntropyLoss()\n",
        "optimizer = optim.SGD(model.parameters(), lr=0.01, momentum=0.9)"
      ]
    },
    {
      "cell_type": "code",
      "execution_count": 15,
      "metadata": {
        "colab": {
          "base_uri": "https://localhost:8080/"
        },
        "id": "P8QEofKlPgXn",
        "outputId": "69c11871-7b92-4087-ce7c-93a7871cfa9e"
      },
      "outputs": [
        {
          "output_type": "stream",
          "name": "stdout",
          "text": [
            "Total number of parameters: 62006\n"
          ]
        }
      ],
      "source": [
        "# Count the total number of parameters\n",
        "total_params = sum(p.numel() for p in model.parameters())\n",
        "print(\"Total number of parameters:\", total_params)"
      ]
    },
    {
      "cell_type": "code",
      "execution_count": null,
      "metadata": {
        "colab": {
          "base_uri": "https://localhost:8080/"
        },
        "id": "QGd7Kq77PgXq",
        "outputId": "72e76619-e1e1-4c2f-a881-75c1b7c25fc5"
      },
      "outputs": [
        {
          "output_type": "stream",
          "name": "stdout",
          "text": [
            "Initial Loss: 2.305333071231842\n"
          ]
        }
      ],
      "source": [
        "# Run a forward pass through the model using the training data to calculate the initial loss value\n",
        "# initial_loss = 0.0\n",
        "# total_samples = 0\n",
        "# with torch.no_grad():\n",
        "#     for inputs, labels in trainloader:\n",
        "#         # inputs, labels = inputs.to(device), labels.to(device)\n",
        "#         outputs = model(inputs)\n",
        "#         loss = Loss(outputs, labels)\n",
        "#         initial_loss += loss.item() * labels.size(0)\n",
        "#         total_samples += labels.size(0)\n",
        "\n",
        "\n",
        "# initial_loss /= total_samples\n",
        "# print(\"Initial Loss:\", initial_loss)"
      ]
    },
    {
      "cell_type": "code",
      "execution_count": 16,
      "metadata": {
        "colab": {
          "base_uri": "https://localhost:8080/",
          "height": 234
        },
        "id": "23JofYIrPgXy",
        "outputId": "3fa1a4f3-839d-40db-e7de-87f9c679cc44"
      },
      "outputs": [
        {
          "output_type": "stream",
          "name": "stdout",
          "text": [
            "[1,   100] loss: 2.297\n",
            "[1,   200] loss: 2.113\n",
            "[1,   300] loss: 1.848\n",
            "[1,   400] loss: 1.699\n",
            "[1,   500] loss: 1.598\n",
            "[2,   100] loss: 1.532\n",
            "[2,   200] loss: 1.493\n",
            "[2,   300] loss: 1.447\n",
            "[2,   400] loss: 1.429\n",
            "[2,   500] loss: 1.375\n"
          ]
        },
        {
          "output_type": "execute_result",
          "data": {
            "text/plain": [
              "'\\n[1,   100] loss: 2.297\\n[1,   200] loss: 2.114\\n[1,   300] loss: 1.849\\n[1,   400] loss: 1.701\\n[1,   500] loss: 1.598\\n[2,   100] loss: 1.533\\n[2,   200] loss: 1.493\\n[2,   300] loss: 1.445\\n[2,   400] loss: 1.432\\n[2,   500] loss: 1.381 --> without GPU\\n'"
            ],
            "application/vnd.google.colaboratory.intrinsic+json": {
              "type": "string"
            }
          },
          "metadata": {},
          "execution_count": 16
        }
      ],
      "source": [
        "epochs = 2\n",
        "for epoch in range(epochs):\n",
        "    running_loss = 0.0\n",
        "    for i,data in enumerate(trainloader,0):\n",
        "        inputs, labels = data\n",
        "        optimizer.zero_grad()\n",
        "        inputs, labels = inputs.to(device), labels.to(device)\n",
        "        outputs = model(inputs)\n",
        "        loss = Loss(outputs, labels)\n",
        "        loss.backward()\n",
        "        optimizer.step()\n",
        "\n",
        "        running_loss += loss.item()\n",
        "        if i % 100 == 99:    # Print every 100 mini-batches\n",
        "            print('[%d, %5d] loss: %.3f' %\n",
        "                  (epoch + 1, i + 1, running_loss / 100))\n",
        "            running_loss = 0.0\n",
        "\n",
        "'''\n",
        "[1,   100] loss: 2.297\n",
        "[1,   200] loss: 2.114\n",
        "[1,   300] loss: 1.849\n",
        "[1,   400] loss: 1.701\n",
        "[1,   500] loss: 1.598\n",
        "[2,   100] loss: 1.533\n",
        "[2,   200] loss: 1.493\n",
        "[2,   300] loss: 1.445\n",
        "[2,   400] loss: 1.432\n",
        "[2,   500] loss: 1.381 --> without GPU\n",
        "'''"
      ]
    },
    {
      "cell_type": "code",
      "execution_count": 17,
      "metadata": {
        "colab": {
          "base_uri": "https://localhost:8080/"
        },
        "id": "bgl6Gnv2PgXz",
        "outputId": "2a0fb143-5780-4c34-98e1-893b977a2684"
      },
      "outputs": [
        {
          "output_type": "execute_result",
          "data": {
            "text/plain": [
              "1.3410794734954834"
            ]
          },
          "metadata": {},
          "execution_count": 17
        }
      ],
      "source": [
        "final_loss = 0.0\n",
        "total_baches = 0.0\n",
        "\n",
        "for i, data in enumerate(trainloader,0):\n",
        "    inputs, labels = data\n",
        "    inputs, labels = inputs.to(device), labels.to(device)\n",
        "    outputs = model(inputs)\n",
        "    loss = Loss(outputs, labels)\n",
        "    final_loss += loss\n",
        "    total_baches+=1\n",
        "final_loss/=total_baches\n",
        "\n",
        "final_loss.item()"
      ]
    },
    {
      "cell_type": "code",
      "source": [
        "correct = 0\n",
        "total = 0\n",
        "\n",
        "# Disable gradient tracking during testing\n",
        "with torch.no_grad():\n",
        "    for data in testloader:\n",
        "        images, labels = data\n",
        "        images, labels = images.to(device), labels.to(device)\n",
        "        outputs = model(images)\n",
        "        _, predicted = torch.max(outputs, 1)\n",
        "        total += labels.size(0)\n",
        "        correct += (predicted == labels).sum().item()\n",
        "\n",
        "# Calculate accuracy\n",
        "accuracy = correct / total\n",
        "print('Accuracy of the network on the test dataset:', accuracy)"
      ],
      "metadata": {
        "colab": {
          "base_uri": "https://localhost:8080/"
        },
        "id": "mqWKmIl6Ug4Y",
        "outputId": "a9fd4862-895c-498a-fd1f-011e4359e346"
      },
      "execution_count": 19,
      "outputs": [
        {
          "output_type": "stream",
          "name": "stdout",
          "text": [
            "Accuracy of the network on the test dataset: 0.5084\n"
          ]
        }
      ]
    },
    {
      "cell_type": "code",
      "source": [],
      "metadata": {
        "id": "mt9MVMmhigTh"
      },
      "execution_count": null,
      "outputs": []
    }
  ],
  "metadata": {
    "kernelspec": {
      "display_name": "Python 3",
      "name": "python3"
    },
    "language_info": {
      "codemirror_mode": {
        "name": "ipython",
        "version": 3
      },
      "file_extension": ".py",
      "mimetype": "text/x-python",
      "name": "python",
      "nbconvert_exporter": "python",
      "pygments_lexer": "ipython3",
      "version": "3.8.2"
    },
    "colab": {
      "provenance": [],
      "gpuType": "T4"
    },
    "accelerator": "GPU"
  },
  "nbformat": 4,
  "nbformat_minor": 0
}