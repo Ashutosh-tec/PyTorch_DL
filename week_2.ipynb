{
 "cells": [
  {
   "cell_type": "code",
   "execution_count": 1,
   "metadata": {},
   "outputs": [],
   "source": [
    "\n",
    "import numpy as np"
   ]
  },
  {
   "cell_type": "code",
   "execution_count": 17,
   "metadata": {},
   "outputs": [
    {
     "data": {
      "text/plain": [
       "([2, 2.000810936784146, 2.0018732866712456, 2.002932703103738],\n",
       " [2, 2.004864129607313, 2.005916935513466, 2.0069646748404097])"
      ]
     },
     "execution_count": 17,
     "metadata": {},
     "output_type": "execute_result"
    }
   ],
   "source": [
    "import numpy as np\n",
    "\n",
    "def sigmoid(x,w,b):\n",
    "    z = np.dot(w, x) + b\n",
    "    return 1 / (1 + np.exp(-z))\n",
    "\n",
    "def sigmoid_derivative_wrt_w(x, w, b):\n",
    "    sigma_z = sigmoid(x,w,b)\n",
    "    return sigma_z * (1 - sigma_z) * x\n",
    "\n",
    "def sigmoid_derivative_wrt_b(x, w, b):\n",
    "    sigma_z = sigmoid(x,w,b)\n",
    "    return sigma_z * (1 - sigma_z)\n",
    "\n",
    "def loss_func(x, w, b, y, wrt_w = True):\n",
    "    if wrt_w:\n",
    "        return 2*(sigmoid( x, w, b) - y) * sigmoid_derivative_wrt_w(x,w,b)\n",
    "    return 2*(sigmoid( x, w, b) - y) * sigmoid_derivative_wrt_b(x,w,b)\n",
    "\n",
    "\n",
    "def calc_w_b(x_list, y_list, w_init, b_init, learning_rate = 1, iter=1):\n",
    "    w_list = [w_init]\n",
    "    b_list = [b_init]\n",
    "    for i in range(iter):\n",
    "        w = w_list[-1]\n",
    "        b = b_list[-1]\n",
    "        for idx in range(len(x_list)):\n",
    "            x = x_list[idx]\n",
    "            y = y_list[idx]\n",
    "            w = w-learning_rate * loss_func(x, w, b, y, wrt_w = True)\n",
    "            b = w-learning_rate * loss_func(x, w, b, y, wrt_w = False)\n",
    "        w_list.append(w)\n",
    "        b_list.append(b)\n",
    "    return (w_list, b_list)\n",
    "\n",
    "x = [-1,0.2]\n",
    "y = [0.5,0.97]\n",
    "calc_w_b(x_list = x, y_list = y, w_init = 2, b_init = 2, iter=3)"
   ]
  },
  {
   "cell_type": "code",
   "execution_count": 16,
   "metadata": {},
   "outputs": [
    {
     "data": {
      "text/plain": [
       "([2, 2.000810936784146, 2.001817064207003, 2.00299234041396],\n",
       " [2, 2.004053192823167, 2.0078791865794785, 2.0115045353681675])"
      ]
     },
     "execution_count": 16,
     "metadata": {},
     "output_type": "execute_result"
    }
   ],
   "source": [
    "import numpy as np\n",
    "\n",
    "def sigmoid(x,w,b):\n",
    "    z = np.dot(w, x) + b\n",
    "    return 1 / (1 + np.exp(-z))\n",
    "\n",
    "def sigmoid_derivative_wrt_w(x, w, b):\n",
    "    sigma_z = sigmoid(x,w,b)\n",
    "    return sigma_z * (1 - sigma_z) * x\n",
    "\n",
    "def sigmoid_derivative_wrt_b(x, w, b):\n",
    "    sigma_z = sigmoid(x,w,b)\n",
    "    return sigma_z * (1 - sigma_z)\n",
    "\n",
    "def loss_func(x, w, b, y, wrt_w = True):\n",
    "    if wrt_w:\n",
    "        return (sigmoid( x, w, b) - y) * sigmoid_derivative_wrt_w(x,w,b)\n",
    "    return (sigmoid( x, w, b) - y) * sigmoid_derivative_wrt_b(x,w,b)\n",
    "\n",
    "\n",
    "def calc_w_b(x_list, y_list, w_init, b_init, learning_rate = 1, iter=1):\n",
    "    w_list = [w_init]\n",
    "    b_list = [b_init]\n",
    "    for i in range(iter):\n",
    "        w = w_list[-1]\n",
    "        b = b_list[-1]\n",
    "        for idx in range(len(x_list)):\n",
    "            x = x_list[idx]\n",
    "            y = y_list[idx]\n",
    "            w = w-learning_rate * loss_func(x, w, b, y, wrt_w = True)\n",
    "            # w_list.append(w)\n",
    "            b_new = b-learning_rate * loss_func(x, w, b, y, wrt_w = False)\n",
    "            # b_list.append(b_new)\n",
    "            b = b_new\n",
    "        w_list.append(w)\n",
    "        b_list.append(b)\n",
    "    return (w_list, b_list)\n",
    "\n",
    "x = [-1,0.2]\n",
    "y = [0.5,0.97]\n",
    "calc_w_b(x_list = x, y_list = y, w_init = 2, b_init = 2, iter=3)\n"
   ]
  },
  {
   "cell_type": "code",
   "execution_count": null,
   "metadata": {},
   "outputs": [],
   "source": []
  }
 ],
 "metadata": {
  "kernelspec": {
   "display_name": "dl_env",
   "language": "python",
   "name": "python3"
  },
  "language_info": {
   "codemirror_mode": {
    "name": "ipython",
    "version": 3
   },
   "file_extension": ".py",
   "mimetype": "text/x-python",
   "name": "python",
   "nbconvert_exporter": "python",
   "pygments_lexer": "ipython3",
   "version": "3.8.2"
  }
 },
 "nbformat": 4,
 "nbformat_minor": 2
}
