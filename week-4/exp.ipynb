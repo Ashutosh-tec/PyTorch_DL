{
 "cells": [
  {
   "cell_type": "code",
   "execution_count": 2,
   "metadata": {},
   "outputs": [],
   "source": [
    "import numpy as np"
   ]
  },
  {
   "cell_type": "code",
   "execution_count": 3,
   "metadata": {},
   "outputs": [],
   "source": [
    "def loss_func(w):\n",
    "    return 0.1 * w**2"
   ]
  },
  {
   "cell_type": "code",
   "execution_count": 8,
   "metadata": {},
   "outputs": [],
   "source": [
    "def update_w(w, eta):\n",
    "    \"\"\"\n",
    "    Normal gradient\n",
    "    \"\"\"\n",
    "    return w - eta * 0.2 * w\n"
   ]
  },
  {
   "cell_type": "code",
   "execution_count": null,
   "metadata": {},
   "outputs": [],
   "source": [
    "w = 10\n",
    "iter = 0\n",
    "\n",
    "while loss_func(w)!=0:\n",
    "    w = update_w(w, eta=10)\n",
    "    iter+=1\n",
    "    print(loss_func(w))\n",
    "print(iter)\n",
    "\n",
    "# w = 1, eta = 1 --> 1665\n",
    "# w = 1, eta = 10 --> keep going\n",
    "# w = 10, eta = 1 --> 1676\n",
    "# w = 10, eta = 10 --> keep going\n"
   ]
  },
  {
   "cell_type": "code",
   "execution_count": 18,
   "metadata": {},
   "outputs": [
    {
     "data": {
      "text/plain": [
       "5.065396568039409e-06"
      ]
     },
     "execution_count": 18,
     "metadata": {},
     "output_type": "execute_result"
    }
   ],
   "source": [
    "def update_momentum_w(w, beta, eta, iteration):\n",
    "    \"\"\"\n",
    "    momentum based gradient\n",
    "    \"\"\"\n",
    "    ut = 0\n",
    "    for i in range(iteration):\n",
    "        ut = beta * ut + 0.2 * w\n",
    "        w = w - eta * ut\n",
    "    return w \n",
    "loss_func(update_momentum_w(w = 1, beta=0.9, eta=10, iteration=100))"
   ]
  },
  {
   "cell_type": "code",
   "execution_count": null,
   "metadata": {},
   "outputs": [],
   "source": []
  },
  {
   "cell_type": "code",
   "execution_count": 19,
   "metadata": {},
   "outputs": [
    {
     "data": {
      "text/plain": [
       "[6.6000000000000005,\n",
       " 7.199999999999999,\n",
       " 7.800000000000001,\n",
       " 12,\n",
       " 12.600000000000001,\n",
       " 13.799999999999999]"
      ]
     },
     "execution_count": 19,
     "metadata": {},
     "output_type": "execute_result"
    }
   ],
   "source": [
    "########### rough\n",
    "arr = [1.1,1.2,1.3,2,2.1,2.3]\n",
    "[(i * 6) for i in arr]"
   ]
  },
  {
   "cell_type": "code",
   "execution_count": null,
   "metadata": {},
   "outputs": [],
   "source": []
  }
 ],
 "metadata": {
  "kernelspec": {
   "display_name": "Python 3",
   "language": "python",
   "name": "python3"
  },
  "language_info": {
   "codemirror_mode": {
    "name": "ipython",
    "version": 3
   },
   "file_extension": ".py",
   "mimetype": "text/x-python",
   "name": "python",
   "nbconvert_exporter": "python",
   "pygments_lexer": "ipython3",
   "version": "3.10.8"
  }
 },
 "nbformat": 4,
 "nbformat_minor": 2
}
