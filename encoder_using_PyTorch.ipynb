{
  "nbformat": 4,
  "nbformat_minor": 0,
  "metadata": {
    "colab": {
      "provenance": []
    },
    "kernelspec": {
      "name": "python3",
      "display_name": "Python 3"
    },
    "language_info": {
      "name": "python"
    }
  },
  "cells": [
    {
      "cell_type": "markdown",
      "source": [
        "* In this assignment you will be building the **Encoder** part of the Transformer architecture.\n",
        "* You will be using the **PyTorch** framework to implement the following components\n",
        "  * Encoder Layer that contains\n",
        "    * Multi-Head Attention (MHA) Module\n",
        "    * Position-wise Feed Forward Neural Network\n",
        "\n",
        "  * Output layer that takes the encoder output and predicts the token_ids.\n",
        "\n",
        "  * Optionally, study whether adding positional information is helpful.\n",
        "  \n",
        "* **DO NOT** USE Built-in **TRANSFORMER LAYERS** as it affects the reproducibility.\n",
        "\n",
        "* You will be given with a configuration file that contains information on various hyperparameters such as embedding dimension, vocabulary size,number heads and so on\n",
        "\n",
        "* Use ReLU activation function and Stochastic Gradient Descent optimizer\n",
        "* Here are a list of helpful Pytorch functions (does not mean you have to use all of them) for this and subsequent assignments\n",
        "  * [torch.matmul](https://pytorch.org/docs/stable/generated/torch.matmul.html#torch-matmul)\n",
        "  * [torch.bmm](https://pytorch.org/docs/stable/generated/torch.bmm.html)\n",
        "  * torch.swapdims\n",
        "  * torch.unsqueeze\n",
        "  * torch.squeeze\n",
        "  * torch.argmax\n",
        "  * [torch.Tensor.view](https://pytorch.org/docs/stable/generated/torch.Tensor.view.html)\n",
        "  * [torch.nn.Embedding](https://pytorch.org/docs/stable/generated/torch.nn.Embedding.html)\n",
        "  * [torch.nn.Parameter](https://pytorch.org/docs/stable/generated/torch.nn.parameter.Parameter.html)\n",
        "  * torch.nn.Linear\n",
        "  * torch.nn.LayerNorm\n",
        "  * torch.nn.ModuleList\n",
        "  * torch.nn.Sequential\n",
        "  * [torch.nn.CrossEntropyLoss](https://pytorch.org/docs/stable/generated/torch.nn.CrossEntropyLoss.html)\n",
        "  \n",
        "* Important: **Do not** set any global seeds.\n",
        "\n",
        "* Helpful resources to get started with\n",
        "\n",
        " * [Annotated Transformers](https://nlp.seas.harvard.edu/annotated-transformer/)\n",
        " * [PyTorch Source code of Transformer Layer](https://pytorch.org/docs/stable/generated/torch.nn.Transformer.html)\n",
        "\n"
      ],
      "metadata": {
        "id": "3BzlkwtBUSLZ"
      }
    },
    {
      "cell_type": "markdown",
      "source": [
        "# Import"
      ],
      "metadata": {
        "id": "xp0X3WMuWEYZ"
      }
    },
    {
      "cell_type": "code",
      "source": [
        "import torch\n",
        "from torch import Tensor\n",
        "\n",
        "import torch.nn as nn\n",
        "from torch.nn import Parameter\n",
        "import torch.nn.functional as F\n",
        "from torch.nn.functional import one_hot\n",
        "\n",
        "import torch.optim as optim\n",
        "\n",
        "from  pprint import pprint\n",
        "from yaml import safe_load\n",
        "import requests\n",
        "from io import BytesIO\n",
        "\n",
        "import math"
      ],
      "metadata": {
        "id": "OR-MhDgVWMYE"
      },
      "execution_count": 73,
      "outputs": []
    },
    {
      "cell_type": "markdown",
      "source": [
        "# Configuration"
      ],
      "metadata": {
        "id": "WbHXnQ2WWlHO"
      }
    },
    {
      "cell_type": "code",
      "source": [
        "#do not edit this cell\n",
        "config_url = \"https://raw.githubusercontent.com/Arunprakash-A/LLM-from-scratch-PyTorch/main/config_files/enc_config.yml\"\n",
        "response = requests.get(config_url)\n",
        "config = response.content.decode(\"utf-8\")\n",
        "config = safe_load(config)\n",
        "pprint(config)"
      ],
      "metadata": {
        "colab": {
          "base_uri": "https://localhost:8080/"
        },
        "id": "0GaFbEI1WnBD",
        "outputId": "8b8fa6e8-0a88-4aa4-c082-2a8cfcb33667"
      },
      "execution_count": 2,
      "outputs": [
        {
          "output_type": "stream",
          "name": "stdout",
          "text": [
            "{'input': {'batch_size': 10, 'embed_dim': 32, 'seq_len': 8, 'vocab_size': 10},\n",
            " 'model': {'d_ff': 128,\n",
            "           'd_model': 32,\n",
            "           'dk': 4,\n",
            "           'dq': 4,\n",
            "           'dv': 4,\n",
            "           'n_heads': 8,\n",
            "           'n_layers': 6}}\n"
          ]
        }
      ]
    },
    {
      "cell_type": "code",
      "source": [
        "#do not edit this cell\n",
        "vocab_size = config['input']['vocab_size']\n",
        "batch_size = config['input']['batch_size']\n",
        "seq_len = config['input']['seq_len']\n",
        "embed_dim = config['input']['embed_dim']"
      ],
      "metadata": {
        "id": "G5I_iBP7XZod"
      },
      "execution_count": 3,
      "outputs": []
    },
    {
      "cell_type": "markdown",
      "source": [
        "* Here, you are directly given with the token ids\n",
        "* Assume that length of all sequences are equal to the context length (T) (so that we do not need to bother about padding shorter sequences while batching)"
      ],
      "metadata": {
        "id": "iHswIewIX5aE"
      }
    },
    {
      "cell_type": "code",
      "source": [
        "# do not edit this cell\n",
        "data_url = 'https://github.com/Arunprakash-A/LLM-from-scratch-PyTorch/raw/main/config_files/w1_input_tokens'\n",
        "r = requests.get(data_url)\n",
        "token_ids = torch.load(BytesIO(r.content))\n",
        "print(token_ids)"
      ],
      "metadata": {
        "colab": {
          "base_uri": "https://localhost:8080/"
        },
        "id": "jaawBcu3a3jX",
        "outputId": "9111ff2e-afdc-46fe-a4b3-86681f5d0722"
      },
      "execution_count": 4,
      "outputs": [
        {
          "output_type": "stream",
          "name": "stdout",
          "text": [
            "tensor([[5, 7, 5, 6, 3, 8, 7, 5],\n",
            "        [7, 2, 7, 1, 2, 1, 1, 7],\n",
            "        [1, 0, 0, 3, 6, 3, 0, 8],\n",
            "        [5, 0, 2, 8, 6, 5, 5, 3],\n",
            "        [3, 5, 4, 8, 5, 0, 7, 3],\n",
            "        [8, 6, 7, 4, 4, 4, 0, 1],\n",
            "        [5, 8, 1, 0, 1, 1, 0, 3],\n",
            "        [1, 7, 8, 8, 0, 5, 3, 7],\n",
            "        [7, 7, 1, 4, 5, 6, 7, 0],\n",
            "        [1, 7, 2, 8, 3, 0, 0, 4]])\n"
          ]
        },
        {
          "output_type": "stream",
          "name": "stderr",
          "text": [
            "<ipython-input-4-0fefa6fcf57f>:4: FutureWarning: You are using `torch.load` with `weights_only=False` (the current default value), which uses the default pickle module implicitly. It is possible to construct malicious pickle data which will execute arbitrary code during unpickling (See https://github.com/pytorch/pytorch/blob/main/SECURITY.md#untrusted-models for more details). In a future release, the default value for `weights_only` will be flipped to `True`. This limits the functions that could be executed during unpickling. Arbitrary objects will no longer be allowed to be loaded via this mode unless they are explicitly allowlisted by the user via `torch.serialization.add_safe_globals`. We recommend you start setting `weights_only=True` for any use case where you don't have full control of the loaded file. Please open an issue on GitHub for any issues related to this experimental feature.\n",
            "  token_ids = torch.load(BytesIO(r.content))\n"
          ]
        }
      ]
    },
    {
      "cell_type": "markdown",
      "source": [
        "# Building the sub-layers"
      ],
      "metadata": {
        "id": "ZhMRsvQvZh6v"
      }
    },
    {
      "cell_type": "code",
      "source": [
        "# do not edit this cell\n",
        "dq = torch.tensor(config['model']['dq'])\n",
        "dk = torch.tensor(config['model']['dk'])\n",
        "dv = torch.tensor(config['model']['dv'])\n",
        "dmodel = embed_dim\n",
        "heads = torch.tensor(config['model']['n_heads'])\n",
        "d_ff = config['model']['d_ff']"
      ],
      "metadata": {
        "id": "29nA7XtsZn4t"
      },
      "execution_count": 5,
      "outputs": []
    },
    {
      "cell_type": "markdown",
      "source": [
        "##Multi-Head Attention\n",
        "\n",
        " * Be mindful when using `torch.matmul`\n",
        " * Ensure that you understood what is being computed (because matrix product is not commutative)\n",
        " * Randomly initialize the parameters using normal distribution with the following seed values\n",
        "  * $W_Q:$(seed=43)\n",
        "  * $W_K:$(seed=44)\n",
        "  * $W_V:$(seed=45)\n",
        "  * $W_O:$(seed=46)"
      ],
      "metadata": {
        "id": "vxyfd2nfZ3on"
      }
    },
    {
      "cell_type": "code",
      "source": [
        "class MHA(nn.Module):\n",
        "\n",
        "    def __init__(self, dmodel, dq, dk, dv, heads):\n",
        "        super(MHA, self).__init__()\n",
        "        # Initialize attributes\n",
        "        self.dmodel = dmodel\n",
        "        self.dq = dq\n",
        "        self.dk = dk\n",
        "        self.dv = dv\n",
        "        self.heads = heads\n",
        "\n",
        "        # Initialize K, Q, V, and O with normal distribution\n",
        "        torch.manual_seed(43)\n",
        "        self.WQ = nn.Parameter(torch.randn(dq * heads, dmodel))  # Query matrix\n",
        "        nn.init.normal_(self.WQ)  # Initialize with normal distribution\n",
        "\n",
        "        torch.manual_seed(44)\n",
        "        self.WK = nn.Parameter(torch.randn(dk * heads, dmodel))  # Key matrix\n",
        "        nn.init.normal_(self.WK)  # Initialize with normal distribution\n",
        "\n",
        "        torch.manual_seed(45)\n",
        "        self.WV = nn.Parameter(torch.randn(dv * heads, dmodel))  # Value matrix\n",
        "        nn.init.normal_(self.WV)  # Initialize with normal distribution\n",
        "\n",
        "        torch.manual_seed(46)\n",
        "        self.WO = nn.Parameter(torch.randn(dmodel, dv * heads))  # Output matrix\n",
        "        nn.init.normal_(self.WO)  # Initialize with normal distribution\n",
        "\n",
        "    def forward(self, H=None):\n",
        "      \"\"\"\n",
        "        Input: Size [BS x T x dmodel]\n",
        "        Output: Size [BS x T x dmodel]\n",
        "      \"\"\"\n",
        "      # Compute queries, keys, and values\n",
        "      Q = torch.matmul(H, self.WQ.T)  # Size: [BS, T, dq * heads]\n",
        "      K = torch.matmul(H, self.WK.T)  # Size: [BS, T, dk * heads]\n",
        "      V = torch.matmul(H, self.WV.T)  # Size: [BS, T, dv * heads]\n",
        "\n",
        "      # Reshape Q, K, V for multi-head attention\n",
        "      batch_size = Q.shape[0]\n",
        "      seq_len = Q.shape[1]\n",
        "\n",
        "      Q = Q.view(batch_size, seq_len, self.heads, self.dq).transpose(1, 2)  # Size: [BS, heads, T, dq]\n",
        "      K = K.view(batch_size, seq_len, self.heads, self.dk).transpose(1, 2)  # Size: [BS, heads, T, dk]\n",
        "      V = V.view(batch_size, seq_len, self.heads, self.dv).transpose(1, 2)  # Size: [BS, heads, T, dv]\n",
        "\n",
        "      # Scaled dot-product attention\n",
        "      dk = torch.tensor(self.dk, dtype=torch.float32)\n",
        "      scores = torch.matmul(Q, K.transpose(-2, -1)) / torch.sqrt(dk)  # Size: [BS, heads, T, T]\n",
        "      attention = F.softmax(scores, dim=-1)  # Apply softmax along the last dimension\n",
        "\n",
        "      # Compute the weighted sum of values\n",
        "      out = torch.matmul(attention, V)  # Size: [BS, heads, T, dv]\n",
        "\n",
        "      # Concatenate the heads and apply the final linear transformation\n",
        "      out = out.transpose(1, 2).contiguous().view(batch_size, seq_len, self.heads * self.dv)  # Size: [BS, T, heads * dv]\n",
        "      out = torch.matmul(out, self.WO.T)  # Size: [BS, T, dmodel]\n",
        "\n",
        "      return out\n"
      ],
      "metadata": {
        "id": "GEihgqiTZ0E_"
      },
      "execution_count": 59,
      "outputs": []
    },
    {
      "cell_type": "code",
      "source": [
        "token_ids"
      ],
      "metadata": {
        "colab": {
          "base_uri": "https://localhost:8080/"
        },
        "id": "LLzxgM9oBdCy",
        "outputId": "8becaebc-2572-4f66-f9f7-3df9fd722909"
      },
      "execution_count": 60,
      "outputs": [
        {
          "output_type": "execute_result",
          "data": {
            "text/plain": [
              "tensor([[5, 7, 5, 6, 3, 8, 7, 5],\n",
              "        [7, 2, 7, 1, 2, 1, 1, 7],\n",
              "        [1, 0, 0, 3, 6, 3, 0, 8],\n",
              "        [5, 0, 2, 8, 6, 5, 5, 3],\n",
              "        [3, 5, 4, 8, 5, 0, 7, 3],\n",
              "        [8, 6, 7, 4, 4, 4, 0, 1],\n",
              "        [5, 8, 1, 0, 1, 1, 0, 3],\n",
              "        [1, 7, 8, 8, 0, 5, 3, 7],\n",
              "        [7, 7, 1, 4, 5, 6, 7, 0],\n",
              "        [1, 7, 2, 8, 3, 0, 0, 4]])"
            ]
          },
          "metadata": {},
          "execution_count": 60
        }
      ]
    },
    {
      "cell_type": "code",
      "source": [
        "# # Dry run\n",
        "# # Create a random tensor of shape [batch_size, seq_len, d_model]\n",
        "# mha = MHA(dmodel=8, dq=4, dk=4, dv=4, heads=2)\n",
        "# input_tensor = torch.rand(2, 2, 8)  # Shape: [BS=2, T=2, d_model=8]\n",
        "\n",
        "# output = mha(input_tensor)\n",
        "# print(\"Output shape:\", output.shape)  # Should print: [2, 2, 8]"
      ],
      "metadata": {
        "id": "V6Yv7COiBNiq"
      },
      "execution_count": 61,
      "outputs": []
    },
    {
      "cell_type": "markdown",
      "source": [
        "## Pointwise FFN\n",
        "\n",
        "* Randomly initialize the parameters using normal distribution with the following seed values\n",
        "  * $W_{1}:$(seed=47)\n",
        "  * $W_2:$(seed=48)  "
      ],
      "metadata": {
        "id": "B7XgQNSRwO0J"
      }
    },
    {
      "cell_type": "code",
      "source": [
        "class FFN(nn.Module):\n",
        "    def __init__(self, dmodel, d_ff, layer=0):\n",
        "        super(FFN, self).__init__()\n",
        "\n",
        "        # Define linear layers without bias\n",
        "        self.layer1 = nn.Linear(dmodel, d_ff, bias=False)\n",
        "        self.layer2 = nn.Linear(d_ff, dmodel, bias=False)\n",
        "\n",
        "        # Initialize weights using normal distribution with the specified seed\n",
        "        torch.manual_seed(47)\n",
        "        nn.init.normal_(self.layer1.weight)  # Initialize layer1 weights using normal distribution\n",
        "\n",
        "        torch.manual_seed(48)\n",
        "        nn.init.normal_(self.layer2.weight)  # Initialize layer2 weights using normal distribution\n",
        "\n",
        "        # ReLU activation\n",
        "        self.relu = nn.ReLU()\n",
        "\n",
        "    def forward(self, x):\n",
        "        '''\n",
        "        input: size [BS, T, dmodel]\n",
        "        output: size [BS, T, dmodel]\n",
        "        '''\n",
        "        # Apply first linear transformation followed by ReLU\n",
        "        x = self.relu(self.layer1(x))\n",
        "\n",
        "        # Apply second linear transformation\n",
        "        out = self.layer2(x)\n",
        "\n",
        "        return out\n",
        "\n"
      ],
      "metadata": {
        "id": "InQxHsqUv9b6"
      },
      "execution_count": 62,
      "outputs": []
    },
    {
      "cell_type": "markdown",
      "source": [
        "## Output Layer\n",
        "\n",
        "* Randomly initialize the linear layer\n",
        " * $W_L:$(seed=49)\n"
      ],
      "metadata": {
        "id": "Y2-ALRSRwVxC"
      }
    },
    {
      "cell_type": "code",
      "source": [
        "class OutputLayer(nn.Module):\n",
        "\n",
        "  def __init__(self,dmodel,vocab_size):\n",
        "    super(OutputLayer,self).__init__()\n",
        "    # your code goes here\n",
        "    torch.manual_seed(49)\n",
        "    self.fc1 = nn.Linear(dmodel, vocab_size)\n",
        "\n",
        "    # # Activation function\n",
        "    # self.activation = nn.Softmax()\n",
        "\n",
        "  def forward(self,representations):\n",
        "    '''\n",
        "    input: size [bsxTxdmodel]\n",
        "    output: size [bsxTxvocab_size]\n",
        "    Note: Do not apply the softmax. Just return the output of linear transformation\n",
        "    '''\n",
        "    out = self.fc1(representations)  # [bs, T, vocab_size]\n",
        "    return out"
      ],
      "metadata": {
        "id": "25yaAbKHwXNb"
      },
      "execution_count": 63,
      "outputs": []
    },
    {
      "cell_type": "markdown",
      "source": [
        "## Encoder Layer"
      ],
      "metadata": {
        "id": "7bD8YU5Ww2eF"
      }
    },
    {
      "cell_type": "code",
      "source": [
        "class EncoderLayer(nn.Module):\n",
        "\n",
        "  def __init__(self,dmodel,dq,dk,dv,d_ff,heads):\n",
        "    super(EncoderLayer,self).__init__()\n",
        "    self.mha = MHA(dmodel,dq,dk,dv,heads)\n",
        "    self.layer_norm_mha = torch.nn.LayerNorm(dmodel)\n",
        "    self.layer_norm_ffn = torch.nn.LayerNorm(dmodel)\n",
        "    self.ffnn = FFN(dmodel,d_ff)\n",
        "\n",
        "  def forward(self,x):\n",
        "\n",
        "    # do a forward pass\n",
        "    # Multi-Head Attention Forward Pass\n",
        "    attention_output = self.mha(x)  # Output from MHA\n",
        "\n",
        "    # Residual connection and Layer Norm after MHA\n",
        "    out = self.layer_norm_mha(x + attention_output)\n",
        "\n",
        "    # Feed Forward Network Forward Pass\n",
        "    ffn_output = self.ffnn(out)  # Output from FFN\n",
        "\n",
        "    # Residual connection and Layer Norm after FFN\n",
        "    out = self.layer_norm_ffn(out + ffn_output)\n",
        "\n",
        "    return out"
      ],
      "metadata": {
        "id": "gCHDYAKWwz4r"
      },
      "execution_count": 64,
      "outputs": []
    },
    {
      "cell_type": "markdown",
      "source": [
        "## Model with one encoder layer\n",
        "\n",
        " * The encoders' forward function accepts the token_ids as input\n",
        " * Generate the embeddings for the token ids by initializing the emebedding weights from normal distribution by setting the seed value to 50\n",
        " * Use `torch.nn.Embed()` to generate required embeddings"
      ],
      "metadata": {
        "id": "wrZ84eSyxYfE"
      }
    },
    {
      "cell_type": "code",
      "source": [
        "class Encoder(nn.Module):\n",
        "\n",
        "  def __init__(self,vocab_size,embed_dim,dq,dk,dv,d_ff,heads,num_layers=1):\n",
        "    super(Encoder,self).__init__()\n",
        "    # your code goes here\n",
        "    self.vocab_size = vocab_size\n",
        "    self.embed_dim = embed_dim\n",
        "    # Initialize the embedding layer\n",
        "    torch.manual_seed(50)  # Set seed for reproducibility\n",
        "    self.embedding = nn.Embedding(vocab_size, embed_dim)\n",
        "\n",
        "    # Initialize the encoder layer\n",
        "    self.encoder_layer = EncoderLayer(embed_dim, dq, dk, dv, d_ff, heads)\n",
        "\n",
        "    # Initialize the output layer\n",
        "    self.output_layer = OutputLayer(embed_dim, vocab_size)\n",
        "\n",
        "  def forward(self,x):\n",
        "    '''\n",
        "    The input should be tokens ids of size [BS,T]\n",
        "    '''\n",
        "    out = self.embedding(x)  # get the embeddings of the tokens\n",
        "    out = self.encoder_layer(out) # pass the embeddings throught the encoder layers\n",
        "    out = self.output_layer(out) # get the logits\n",
        "\n",
        "    return out"
      ],
      "metadata": {
        "id": "WctNu-Z-w5rd"
      },
      "execution_count": 65,
      "outputs": []
    },
    {
      "cell_type": "code",
      "source": [
        "model = Encoder(vocab_size,dmodel,dq,dk,dv,d_ff,heads)\n",
        "optimizer = optim.SGD(model.parameters(), lr=0.01)\n",
        "criterion = nn.CrossEntropyLoss()"
      ],
      "metadata": {
        "id": "owqyMc_Fxghn"
      },
      "execution_count": 66,
      "outputs": []
    },
    {
      "cell_type": "markdown",
      "source": [
        "# Training the model\n",
        "\n",
        " * Train the model for 30 epochs and compute the loss"
      ],
      "metadata": {
        "id": "Wmgf_oYl6hr0"
      }
    },
    {
      "cell_type": "code",
      "source": [
        "import matplotlib.pyplot as plt\n",
        "\n",
        "\n",
        "def train(token_ids, model, optimizer, criterion, epochs=30):\n",
        "    # List to store loss values\n",
        "    loss_values = []\n",
        "\n",
        "    for epoch in range(epochs):\n",
        "        model.train()  # Set the model to training mode\n",
        "\n",
        "        # Zero the gradients before the forward pass\n",
        "        optimizer.zero_grad()\n",
        "\n",
        "        # Forward pass\n",
        "        out = model(token_ids)  # Get the model output\n",
        "\n",
        "        # Reshape output and target for loss calculation\n",
        "        batch_size, seq_len, vocab_size = out.size()\n",
        "        out = out.view(-1, vocab_size)  # Flatten output\n",
        "        target = token_ids.view(-1)  # Flatten token_ids\n",
        "\n",
        "        # Compute the loss\n",
        "        loss = criterion(out, target)\n",
        "\n",
        "        # Store the loss value for visualization\n",
        "        loss_values.append(loss.item())\n",
        "\n",
        "        # Print loss for monitoring\n",
        "        if epoch % 2 == 0:  # Print every 2 epochs\n",
        "            print(f'Epoch {epoch}, Loss: {loss.item()}')\n",
        "\n",
        "        # Backward pass\n",
        "        loss.backward()\n",
        "\n",
        "        # Update model parameters\n",
        "        optimizer.step()\n",
        "\n",
        "    # Plot the loss after training\n",
        "    plt.plot(range(epochs), loss_values, label='Loss per Epoch')\n",
        "    plt.xlabel('Epochs')\n",
        "    plt.ylabel('Loss')\n",
        "    plt.title('Training Loss per Epoch')\n",
        "    plt.legend()\n",
        "    plt.show()\n",
        "\n",
        "    print(f'Final Loss after training for {epoch + 1} epochs is {loss.item()}')\n",
        "\n",
        "model = Encoder(vocab_size,dmodel,dq,dk,dv,d_ff,heads)\n",
        "optimizer = optim.SGD(model.parameters(), lr=0.01)\n",
        "criterion = nn.CrossEntropyLoss()\n",
        "\n",
        "train(token_ids, model, optimizer, criterion, epochs=30)"
      ],
      "metadata": {
        "colab": {
          "base_uri": "https://localhost:8080/",
          "height": 817
        },
        "id": "NPhSHPubIUlZ",
        "outputId": "bb1edcdb-6511-4a42-8f1a-9befc446e6d0"
      },
      "execution_count": 67,
      "outputs": [
        {
          "output_type": "stream",
          "name": "stderr",
          "text": [
            "<ipython-input-59-8156c4cb525e>:48: UserWarning: To copy construct from a tensor, it is recommended to use sourceTensor.clone().detach() or sourceTensor.clone().detach().requires_grad_(True), rather than torch.tensor(sourceTensor).\n",
            "  dk = torch.tensor(self.dk, dtype=torch.float32)\n"
          ]
        },
        {
          "output_type": "stream",
          "name": "stdout",
          "text": [
            "Epoch 0, Loss: 2.4414265155792236\n",
            "Epoch 2, Loss: 2.383842945098877\n",
            "Epoch 4, Loss: 2.333833932876587\n",
            "Epoch 6, Loss: 2.287980556488037\n",
            "Epoch 8, Loss: 2.248408794403076\n",
            "Epoch 10, Loss: 2.2107348442077637\n",
            "Epoch 12, Loss: 2.1746158599853516\n",
            "Epoch 14, Loss: 2.1396851539611816\n",
            "Epoch 16, Loss: 2.1057276725769043\n",
            "Epoch 18, Loss: 2.072652816772461\n",
            "Epoch 20, Loss: 2.0403761863708496\n",
            "Epoch 22, Loss: 2.0088517665863037\n",
            "Epoch 24, Loss: 1.9780422449111938\n",
            "Epoch 26, Loss: 1.947906494140625\n",
            "Epoch 28, Loss: 1.918418288230896\n"
          ]
        },
        {
          "output_type": "display_data",
          "data": {
            "text/plain": [
              "<Figure size 640x480 with 1 Axes>"
            ],
            "image/png": "[encoded data removed]"
          },
          "metadata": {}
        },
        {
          "output_type": "stream",
          "name": "stdout",
          "text": [
            "Final Loss after training for 30 epochs is 1.9038957357406616\n"
          ]
        }
      ]
    },
    {
      "cell_type": "markdown",
      "source": [
        "# Inference"
      ],
      "metadata": {
        "id": "WE7gk3Wj6nyn"
      }
    },
    {
      "cell_type": "code",
      "source": [
        "with torch.inference_mode():\n",
        "  predictions =  model(token_ids) # predict the labels\n",
        "\n",
        "  # get result obtained from softmax\n",
        "  predicted_res = predictions.argmax(dim=-1)\n",
        "\n",
        "correct_predictions = (token_ids == predicted_res)  # Shape: [BS, T]\n",
        "print(torch.count_nonzero(correct_predictions))  # Counts the number of matches"
      ],
      "metadata": {
        "id": "hYSG8_HCyGbm",
        "colab": {
          "base_uri": "https://localhost:8080/"
        },
        "outputId": "a7afe8a8-e194-474e-fd9d-0fe3f8040c4d"
      },
      "execution_count": 68,
      "outputs": [
        {
          "output_type": "stream",
          "name": "stdout",
          "text": [
            "tensor(42)\n"
          ]
        },
        {
          "output_type": "stream",
          "name": "stderr",
          "text": [
            "<ipython-input-59-8156c4cb525e>:48: UserWarning: To copy construct from a tensor, it is recommended to use sourceTensor.clone().detach() or sourceTensor.clone().detach().requires_grad_(True), rather than torch.tensor(sourceTensor).\n",
            "  dk = torch.tensor(self.dk, dtype=torch.float32)\n"
          ]
        }
      ]
    },
    {
      "cell_type": "markdown",
      "source": [
        "* See how many labels are correctly predicted"
      ],
      "metadata": {
        "id": "ORsnaC9L64U-"
      }
    },
    {
      "cell_type": "markdown",
      "source": [
        "# I'm getting\n",
        "- Loss -> 1.9038\n",
        "- Correct Prediction -> 42"
      ],
      "metadata": {
        "id": "Eu0q4MPMAALb"
      }
    },
    {
      "cell_type": "markdown",
      "source": [
        "* The loss by now should be about 2.39 and the number of correct predictions should be about 37"
      ],
      "metadata": {
        "id": "4ifS0e81G2Hq"
      }
    },
    {
      "cell_type": "markdown",
      "source": [
        "# Encoder with N Layers\n",
        "\n",
        "  * The intialized parameters in all layers are identical\n",
        "  * use ModuleList to create **deep-copies** of encoder layer"
      ],
      "metadata": {
        "id": "hZm-fFLRyTRO"
      }
    },
    {
      "cell_type": "code",
      "source": [
        "import copy\n",
        "class Encoder(nn.Module):\n",
        "\n",
        "  def __init__(self,vocab_size,dmodel,dq,dk,dv,d_ff,heads,num_layers=1):\n",
        "    super(Encoder,self).__init__()\n",
        "    torch.manual_seed(50)\n",
        "    self.embed_weights = nn.Embedding(vocab_size,dmodel)\n",
        "\n",
        "    self.norm = nn.LayerNorm(embed_dim)\n",
        "\n",
        "    encoder_layer = EncoderLayer(dmodel,dq,dk,dv,d_ff,heads)\n",
        "    self.enc_layers = nn.ModuleList([copy.deepcopy(encoder_layer) for _ in range(num_layers)])\n",
        "\n",
        "    self.output_layer = OutputLayer(dmodel, vocab_size)\n",
        "\n",
        "  def forward(self,x):\n",
        "    '''\n",
        "    1. Get embeddings\n",
        "    2. Pass it through encoder layer-1 and recursively pass the output to subsequent enc.layers\n",
        "    3. output the logits\n",
        "    '''\n",
        "    out = self.embed_weights(x)\n",
        "    for layer in self.enc_layers:\n",
        "      out = layer(out)\n",
        "    out = self.output_layer(out)\n",
        "    return out"
      ],
      "metadata": {
        "id": "4c3LdS8AyU0K"
      },
      "execution_count": 69,
      "outputs": []
    },
    {
      "cell_type": "markdown",
      "source": [
        "* Train the stack of encoder layers with `num_layers=2` for the same 30 epochs"
      ],
      "metadata": {
        "id": "7E4xZxWi8XtV"
      }
    },
    {
      "cell_type": "code",
      "source": [
        "model1 = Encoder(vocab_size,dmodel,dq,dk,dv,d_ff,heads,num_layers=2)\n",
        "criterion = nn.CrossEntropyLoss()\n",
        "optimizer = optim.SGD(model1.parameters(), lr=0.01)"
      ],
      "metadata": {
        "id": "ErrBXMf_zL5g"
      },
      "execution_count": 70,
      "outputs": []
    },
    {
      "cell_type": "code",
      "source": [
        "train(token_ids, model1, optimizer, criterion, epochs=30)"
      ],
      "metadata": {
        "id": "BeCyhBBmzY5d",
        "colab": {
          "base_uri": "https://localhost:8080/",
          "height": 817
        },
        "outputId": "2202f4d4-507c-4ee9-9eef-e9d928a51d75"
      },
      "execution_count": 71,
      "outputs": [
        {
          "output_type": "stream",
          "name": "stderr",
          "text": [
            "<ipython-input-59-8156c4cb525e>:48: UserWarning: To copy construct from a tensor, it is recommended to use sourceTensor.clone().detach() or sourceTensor.clone().detach().requires_grad_(True), rather than torch.tensor(sourceTensor).\n",
            "  dk = torch.tensor(self.dk, dtype=torch.float32)\n"
          ]
        },
        {
          "output_type": "stream",
          "name": "stdout",
          "text": [
            "Epoch 0, Loss: 2.4108848571777344\n",
            "Epoch 2, Loss: 2.3011093139648438\n",
            "Epoch 4, Loss: 2.244187831878662\n",
            "Epoch 6, Loss: 2.204986095428467\n",
            "Epoch 8, Loss: 2.17459774017334\n",
            "Epoch 10, Loss: 2.1440091133117676\n",
            "Epoch 12, Loss: 2.1163861751556396\n",
            "Epoch 14, Loss: 2.0909790992736816\n",
            "Epoch 16, Loss: 2.0691351890563965\n",
            "Epoch 18, Loss: 2.0486764907836914\n",
            "Epoch 20, Loss: 2.0316402912139893\n",
            "Epoch 22, Loss: 2.021076202392578\n",
            "Epoch 24, Loss: 2.00136399269104\n",
            "Epoch 26, Loss: 1.9825570583343506\n",
            "Epoch 28, Loss: 1.9671396017074585\n"
          ]
        },
        {
          "output_type": "display_data",
          "data": {
            "text/plain": [
              "<Figure size 640x480 with 1 Axes>"
            ],
            "image/png": "[encoded data removed]"
          },
          "metadata": {}
        },
        {
          "output_type": "stream",
          "name": "stdout",
          "text": [
            "Final Loss after training for 30 epochs is 1.959573745727539\n"
          ]
        }
      ]
    },
    {
      "cell_type": "code",
      "source": [
        "with torch.inference_mode():\n",
        "  predictions = model1(token_ids) # predict labels\n",
        "\n",
        "  predicted_out = predictions.argmax(dim=-1)\n",
        "\n",
        "correct_predictions = (token_ids == predicted_out)\n",
        "print(torch.count_nonzero(correct_predictions))"
      ],
      "metadata": {
        "id": "lWl0YGbI0Dy3",
        "colab": {
          "base_uri": "https://localhost:8080/"
        },
        "outputId": "73423af6-8238-4428-c612-3b7c7a9265b2"
      },
      "execution_count": 72,
      "outputs": [
        {
          "output_type": "stream",
          "name": "stdout",
          "text": [
            "tensor(25)\n"
          ]
        },
        {
          "output_type": "stream",
          "name": "stderr",
          "text": [
            "<ipython-input-59-8156c4cb525e>:48: UserWarning: To copy construct from a tensor, it is recommended to use sourceTensor.clone().detach() or sourceTensor.clone().detach().requires_grad_(True), rather than torch.tensor(sourceTensor).\n",
            "  dk = torch.tensor(self.dk, dtype=torch.float32)\n"
          ]
        }
      ]
    },
    {
      "cell_type": "code",
      "source": [
        "torch.count_nonzero(predictions==token_ids)"
      ],
      "metadata": {
        "id": "llZyhTY20JOQ"
      },
      "execution_count": null,
      "outputs": []
    },
    {
      "cell_type": "markdown",
      "source": [
        "# I'm getting\n",
        "- Loss -> 1.95\n",
        "- Correct Prediction -> 25"
      ],
      "metadata": {
        "id": "DXktnlSfAw2G"
      }
    },
    {
      "cell_type": "markdown",
      "source": [
        "* Now, the loss value should be about 1.9 and the number of correct preditions is about 38"
      ],
      "metadata": {
        "id": "aZkfYjpnLwax"
      }
    },
    {
      "cell_type": "markdown",
      "source": [
        "## Count Number of Parameters"
      ],
      "metadata": {
        "id": "YJHxAYffFlVK"
      }
    },
    {
      "cell_type": "code",
      "source": [
        "for parameter in model.parameters():\n",
        "  total_num_parameters = None\n",
        "\n",
        "print('total number of parameters in the model \\n including the embedding layer is:', total_num_parameters)"
      ],
      "metadata": {
        "id": "7xrviY4PFoHu"
      },
      "execution_count": null,
      "outputs": []
    },
    {
      "cell_type": "markdown",
      "source": [
        "## (Optional) Positional Encoding\n",
        "\n",
        " * We now use the positional embedding as defined in the [paper](https://arxiv.org/pdf/1706.03762v1.pdf) (differs a bit from the lecture).\n",
        " * Note that, the positional encoding for each position is fixed (not a learnable parameter)\n",
        " * However, we add this with the raw_embeddings which are learnable.\n",
        " * Therefore, it is important to create a class definition for PE and register PE parameters in the buffer (in case we move the model to GPU)\n",
        " * Just create a matrix of same size of input and add it to the embeddings"
      ],
      "metadata": {
        "id": "EVZhnRymGU4r"
      }
    },
    {
      "cell_type": "code",
      "source": [
        "class PositionalEncoding(nn.Module):\n",
        "    \"Positional Encoding using sine and cosine functions.\"\n",
        "\n",
        "    def __init__(self, d_model, max_len=8):\n",
        "        super(PositionalEncoding, self).__init__()\n",
        "\n",
        "        # Create a matrix to hold positional encodings\n",
        "        positional_encoding = torch.zeros(max_len, d_model)\n",
        "\n",
        "        # Position indices (shape: [max_len, 1])\n",
        "        positions = torch.arange(0, max_len, dtype=torch.float).unsqueeze(1)\n",
        "\n",
        "        # Dividing terms: 10000^(2i / d_model)\n",
        "        divisor_term = torch.exp(torch.arange(0, d_model, 2).float() * (-math.log(10000.0) / d_model))\n",
        "\n",
        "        # Apply sine to even indices (2i) and cosine to odd indices (2i+1)\n",
        "        positional_encoding[:, 0::2] = torch.sin(positions * divisor_term)  # Even indices\n",
        "        positional_encoding[:, 1::2] = torch.cos(positions * divisor_term)  # Odd indices\n",
        "\n",
        "        # Register the positional encodings as a buffer (non-trainable)\n",
        "        self.register_buffer(\"positional_encoding\", positional_encoding.unsqueeze(0))  # Shape: [1, max_len, d_model]\n",
        "\n",
        "    def forward(self, x):\n",
        "        # Add positional encoding to the input embeddings (x should be of size [batch_size, seq_len, d_model])\n",
        "        x = x + self.positional_encoding[:, :x.size(1), :]\n",
        "        return x\n"
      ],
      "metadata": {
        "id": "kMyJFoEpFqnR"
      },
      "execution_count": null,
      "outputs": []
    }
  ]
}