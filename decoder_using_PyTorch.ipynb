{
  "nbformat": 4,
  "nbformat_minor": 0,
  "metadata": {
    "colab": {
      "provenance": []
    },
    "kernelspec": {
      "name": "python3",
      "display_name": "Python 3"
    },
    "language_info": {
      "name": "python"
    }
  },
  "cells": [
    {
      "cell_type": "markdown",
      "source": [
        "* The objective of this assignments is to build the **Decoder** part of the Transformer architecture.\n",
        "* We will be using the **PyTorch** framework to implement the following components\n",
        "  * Decoder Layer that contains\n",
        "    * Multi-Head Masked Attention (MHMA) Module\n",
        "    * Multi-Head Cross Attention (MHMA) Module\n",
        "    * Position-wise Feed Forward Neural Network\n",
        "\n",
        "  * Implement CLM\n",
        "\n",
        "* **DO NOT** USE Built-in **TRANSFORMER LAYERS** as it affects the reproducibility.\n",
        "\n",
        "* You will be given with a configuration file that contains information on various hyperparameters such as embedding dimension, vocabulary size,number heads and so on\n",
        "\n",
        "* Use ReLU activation function and Stochastic Gradient Descent optimizer\n",
        "* Here are a list of helpful Pytorch functions (does not mean you have to use all of them) for this subsequent assignments\n",
        "  * [torch.matmul](https://pytorch.org/docs/stable/generated/torch.matmul.html#torch-matmul)\n",
        "  * [torch.bmm](https://pytorch.org/docs/stable/generated/torch.bmm.html)\n",
        "  * torch.swapdims\n",
        "  * torch.unsqueeze\n",
        "  * torch.squeeze\n",
        "  * torch.argmax\n",
        "  * [torch.Tensor.view](https://pytorch.org/docs/stable/generated/torch.Tensor.view.html)\n",
        "  * [torch.nn.Embedding](https://pytorch.org/docs/stable/generated/torch.nn.Embedding.html)\n",
        "  * [torch.nn.Parameter](https://pytorch.org/docs/stable/generated/torch.nn.parameter.Parameter.html)\n",
        "  * torch.nn.Linear\n",
        "  * torch.nn.LayerNorm\n",
        "  * torch.nn.ModuleList\n",
        "  * torch.nn.Sequential\n",
        "  * [torch.nn.CrossEntropyLoss](https://pytorch.org/docs/stable/generated/torch.nn.CrossEntropyLoss.html)\n",
        "  \n",
        "* Important: Do not set any global seeds.\n",
        "\n",
        "* Helpful resources to get started with\n",
        "\n",
        " * [Andrej Karpathys Nano GPT](https://github.com/karpathy/nanoGPT)\n",
        " * [PyTorch Source code of Transformer Layer](https://pytorch.org/docs/stable/generated/torch.nn.Transformer.html)\n",
        "\n"
      ],
      "metadata": {
        "id": "SLKgMhMp8wvg"
      }
    },
    {
      "cell_type": "code",
      "execution_count": 346,
      "metadata": {
        "id": "es7WIeXF3nrV"
      },
      "outputs": [],
      "source": [
        "import torch\n",
        "from torch import Tensor\n",
        "\n",
        "import torch.nn as nn\n",
        "from torch.nn import Parameter\n",
        "import torch.nn.functional as F\n",
        "from torch.nn.functional import one_hot\n",
        "\n",
        "import torch.optim as optim\n",
        "\n",
        "from  pprint import pprint\n",
        "from yaml import safe_load\n",
        "import copy\n",
        "import requests\n",
        "from io import BytesIO"
      ]
    },
    {
      "cell_type": "code",
      "source": [
        "#do not edit this cell\n",
        "config_url = \"https://raw.githubusercontent.com/Arunprakash-A/LLM-from-scratch-PyTorch/main/config_files/dec_config.yml\"\n",
        "response = requests.get(config_url)\n",
        "config = response.content.decode(\"utf-8\")\n",
        "config = safe_load(config)\n",
        "pprint(config)"
      ],
      "metadata": {
        "id": "de2_k13-3_gS",
        "colab": {
          "base_uri": "https://localhost:8080/"
        },
        "outputId": "4447211f-ed7f-423f-a4d1-fdebf62db895"
      },
      "execution_count": 347,
      "outputs": [
        {
          "output_type": "stream",
          "name": "stdout",
          "text": [
            "{'input': {'batch_size': 10, 'embed_dim': 32, 'seq_len': 8, 'vocab_size': 12},\n",
            " 'model': {'d_ff': 128,\n",
            "           'd_model': 32,\n",
            "           'dk': 4,\n",
            "           'dq': 4,\n",
            "           'dv': 4,\n",
            "           'n_heads': 8,\n",
            "           'n_layers': 6}}\n"
          ]
        }
      ]
    },
    {
      "cell_type": "code",
      "source": [
        "vocab_size = config['input']['vocab_size']\n",
        "batch_size = config['input']['batch_size']\n",
        "seq_len = config['input']['seq_len']\n",
        "embed_dim = config['input']['embed_dim']\n",
        "dmodel = embed_dim\n",
        "dq = torch.tensor(config['model']['dq'])\n",
        "dk = torch.tensor(config['model']['dk'])\n",
        "dv = torch.tensor(config['model']['dv'])\n",
        "heads = torch.tensor(config['model']['n_heads'])\n",
        "d_ff = config['model']['d_ff']"
      ],
      "metadata": {
        "id": "kS7dciwb53M1"
      },
      "execution_count": 348,
      "outputs": []
    },
    {
      "cell_type": "markdown",
      "source": [
        "# Input tokens"
      ],
      "metadata": {
        "id": "6uLkQpFA5-Gs"
      }
    },
    {
      "cell_type": "markdown",
      "source": [
        "* Generate a raw_input ids (without any special tokens appended to it)\n",
        "\n",
        "* Since we will be using this as label after adding the special  \\<start\\> token, we use the variable name \"label_ids\"\n",
        "\n",
        "* Keep the size of the `label_ids=(bs,seq_len-1)` as we insert a special token ids in the next step"
      ],
      "metadata": {
        "id": "PfUUsznGp9Ll"
      }
    },
    {
      "cell_type": "code",
      "source": [
        "# do not edit this cell\n",
        "data_url = 'https://github.com/Arunprakash-A/LLM-from-scratch-PyTorch/raw/main/config_files/w2_input_tokens'\n",
        "r = requests.get(data_url)\n",
        "label_ids = torch.load(BytesIO(r.content))"
      ],
      "metadata": {
        "id": "I_D8hvdH5_1E",
        "colab": {
          "base_uri": "https://localhost:8080/"
        },
        "outputId": "63f5195d-1161-460d-adf7-f55c8ebe7202"
      },
      "execution_count": 349,
      "outputs": [
        {
          "output_type": "stream",
          "name": "stderr",
          "text": [
            "<ipython-input-349-8cc5628215f0>:4: FutureWarning: You are using `torch.load` with `weights_only=False` (the current default value), which uses the default pickle module implicitly. It is possible to construct malicious pickle data which will execute arbitrary code during unpickling (See https://github.com/pytorch/pytorch/blob/main/SECURITY.md#untrusted-models for more details). In a future release, the default value for `weights_only` will be flipped to `True`. This limits the functions that could be executed during unpickling. Arbitrary objects will no longer be allowed to be loaded via this mode unless they are explicitly allowlisted by the user via `torch.serialization.add_safe_globals`. We recommend you start setting `weights_only=True` for any use case where you don't have full control of the loaded file. Please open an issue on GitHub for any issues related to this experimental feature.\n",
            "  label_ids = torch.load(BytesIO(r.content))\n"
          ]
        }
      ]
    },
    {
      "cell_type": "markdown",
      "source": [
        "* Let the first token_id be be a special `[start]` token (mapped to integer 0)\n",
        "* If label_ids=$\\begin{bmatrix}1&2\\\\3&4 \\end{bmatrix}$, then we modify it as $\\begin{bmatrix}0&1&2\\\\0&3&4 \\end{bmatrix}$"
      ],
      "metadata": {
        "id": "nxmtUf5j6JJ9"
      }
    },
    {
      "cell_type": "code",
      "source": [
        "# the first column of token_ids should be zeros and the rest of the columns come from label_ids\n",
        "\n",
        "token_ids = torch.cat([torch.zeros((batch_size, 1), dtype=torch.long), label_ids], dim=1)"
      ],
      "metadata": {
        "id": "bJm3AReH5A4z"
      },
      "execution_count": 350,
      "outputs": []
    },
    {
      "cell_type": "code",
      "source": [
        "token_ids"
      ],
      "metadata": {
        "colab": {
          "base_uri": "https://localhost:8080/"
        },
        "id": "1wXBAl_DFfLY",
        "outputId": "6be32d68-3c20-469e-cd0c-dea50e9ea579"
      },
      "execution_count": 351,
      "outputs": [
        {
          "output_type": "execute_result",
          "data": {
            "text/plain": [
              "tensor([[ 0,  7,  8,  7,  7,  9,  2,  6],\n",
              "        [ 0, 10,  1, 10,  5,  3,  6,  8],\n",
              "        [ 0,  3,  4,  8,  2, 10, 10, 10],\n",
              "        [ 0,  4, 10,  1,  3,  4,  9,  7],\n",
              "        [ 0,  8,  4,  7,  3,  8, 10,  5],\n",
              "        [ 0,  9,  1,  8,  5,  9,  9, 10],\n",
              "        [ 0,  7,  3,  8,  2,  5,  1,  5],\n",
              "        [ 0,  3,  3,  2,  1,  4,  1,  1],\n",
              "        [ 0, 10,  9,  9,  9,  6,  9,  2],\n",
              "        [ 0,  3,  6,  6,  3,  5,  4,  5]])"
            ]
          },
          "metadata": {},
          "execution_count": 351
        }
      ]
    },
    {
      "cell_type": "markdown",
      "source": [
        "# Implement the following components of a decoder layer\n",
        "\n",
        " * Multi-head Masked Attention (MHMA)\n",
        " * Multi-head Cross Attention (MHCA)\n",
        " * Postion-wise FFN\n",
        "\n",
        "* Randomly initialize the parameters using normal distribution with the following seed values\n",
        "  * $W_Q:$(seed=43)\n",
        "  * $W_K:$(seed=44)\n",
        "  * $W_V:$(seed=45)\n",
        "  * $W_O:$(seed=46)\n",
        "\n",
        "* Remember that, Multi-head cross atention takes two represnetation. One is the encoder output and the other one is the output from masked attetnion sub-layer.\n",
        "\n",
        "* However, in this assignment, we will fix it to a random matrix."
      ],
      "metadata": {
        "id": "nrDQbLIF334F"
      }
    },
    {
      "cell_type": "code",
      "source": [
        "class MHCA(nn.Module):\n",
        "\n",
        "  def __init__(self,dmodel,dq,dk,dv,heads):\n",
        "    super(MHCA,self).__init__()\n",
        "    self.dq = dq\n",
        "    self.dk = dk\n",
        "    self.dv = dv\n",
        "    self.heads = heads\n",
        "    self.W_Q = torch.randn(size=(heads, dmodel, dq),generator=torch.random.manual_seed(43))\n",
        "    self.W_K = torch.randn(size=(heads, dmodel, dq),generator=torch.random.manual_seed(44))\n",
        "    self.W_V = torch.randn(size=(heads, dmodel, dq),generator=torch.random.manual_seed(45))\n",
        "    self.W_O = torch.randn(size=(dmodel, dmodel),generator=torch.random.manual_seed(46))\n",
        "\n",
        "\n",
        "     # your method definitions go here (if you want to)\n",
        "\n",
        "  def forward(self, enc, x):\n",
        "    \"\"\"\n",
        "      NOTE: enc -> Output from Encoder Layer\n",
        "            x -> Output from Masked Attention Layer (in Decoder Layer)\n",
        "\n",
        "      Dimenstions:\n",
        "      x-> batch_size, seq_len, dmodel\n",
        "      enc-> batch_size, seq_len, dmodel\n",
        "    \"\"\"\n",
        "    # implement forward method\n",
        "    Q = torch.einsum('bsd,hdq->bhsq',x, self.W_Q)\n",
        "    K = torch.einsum('bsd,hdq->bhsq',enc, self.W_K)\n",
        "    V = torch.einsum('bsd,hdq->bhsq',enc, self.W_V)\n",
        "\n",
        "    temp_att = torch.einsum('bhsq,bhtq->bhst', Q, K)\n",
        "    z = torch.softmax(temp_att, dim = -1)\n",
        "    # z -> batch_size, head, seq_len (in Q), seq_len (in K)\n",
        "    out = torch.einsum('bhst,bhtq->bhsq', z, V)\n",
        "    out = out.permute(0, 2, 1, 3).contiguous().view(batch_size, seq_len, self.heads * self.dv)\n",
        "    out = torch.einsum('bsd,od->bso', out, self.W_O)  #-> batch_size, seq_len, dmodel\n",
        "\n",
        "    return out\n"
      ],
      "metadata": {
        "id": "2URLKYHT8i1x"
      },
      "execution_count": 352,
      "outputs": []
    },
    {
      "cell_type": "markdown",
      "source": [
        "* By default, `mask=None`. Therefore, create and apply the mask while computing the attention scores\n"
      ],
      "metadata": {
        "id": "3axiToa8AiTA"
      }
    },
    {
      "cell_type": "code",
      "source": [
        "def create_mask(batch_size, head, seq1, seq2):\n",
        "  # Create a tensor of size (dim, dim) filled with negative infinity\n",
        "  tensor = torch.full((batch_size, head, seq1, seq2), float('-inf'))\n",
        "  # print(tensor.shape)\n",
        "  # Fill the upper triangular part (including the diagonal) with zeros\n",
        "  tensor = torch.triu(tensor, diagonal=0)\n",
        "  # print(tensor.shape)\n",
        "\n",
        "  # mask = torch.concat([tensor[i].fill_diagonal_(0) for i in range(batch_size)])\n",
        "  # Fill the diagonal with zeros for each batch slice in-place\n",
        "  for i in range(batch_size):\n",
        "    for j in range(head):\n",
        "      tensor[i][j].fill_diagonal_(0)\n",
        "  return tensor"
      ],
      "metadata": {
        "id": "lJd9H0hbtP-J"
      },
      "execution_count": 353,
      "outputs": []
    },
    {
      "cell_type": "code",
      "source": [
        "# W_Q = torch.randn(size=(heads, dmodel, dq),generator=torch.random.manual_seed(43))\n",
        "# x = torch.randn(size=(batch_size, seq_len, dmodel),generator=torch.random.manual_seed(43))\n",
        "# torch.einsum('bsd,hdq->bhsq', x, W_Q).shape #->10,8,8,4\n",
        "\n",
        "# x = torch.randn(size=(batch_size, seq_len, 2),generator=torch.random.manual_seed(43))\n",
        "# torch.softmax(x, dim = -1)"
      ],
      "metadata": {
        "collapsed": true,
        "id": "39_vMD-twJ4O"
      },
      "execution_count": 354,
      "outputs": []
    },
    {
      "cell_type": "code",
      "source": [
        "class MHMA(nn.Module):\n",
        "\n",
        "  def __init__(self,dmodel,dq,dk,dv,heads,mask=None):\n",
        "    super(MHMA,self).__init__()\n",
        "    # your code goes here\n",
        "    self.dq = dq\n",
        "    self.dk = dk\n",
        "    self.dv = dv\n",
        "    self.heads = heads\n",
        "    self.mask = mask\n",
        "    self.W_Q = torch.randn(size=(heads, dmodel, dq),generator=torch.random.manual_seed(43))\n",
        "    self.W_K = torch.randn(size=(heads, dmodel, dq),generator=torch.random.manual_seed(44))\n",
        "    self.W_V = torch.randn(size=(heads, dmodel, dq),generator=torch.random.manual_seed(45))\n",
        "    self.W_O = torch.randn(size=(dmodel, dmodel),generator=torch.random.manual_seed(46))\n",
        "\n",
        "\n",
        "\n",
        "  def forward(self, x):\n",
        "    # implement forward method\n",
        "\n",
        "    # x ->  batch_size, seq_len, dmodel\n",
        "    # Wq -> heads, dmodel, dq\n",
        "\n",
        "    Q = torch.einsum('bsd,hdq->bhsq',x, self.W_Q)\n",
        "    K = torch.einsum('bsd,hdq->bhsq',x, self.W_K)\n",
        "    V = torch.einsum('bsd,hdq->bhsq',x, self.W_V)\n",
        "\n",
        "    temp_att = torch.einsum('bhsq,bhtq->bhst', Q, K)\n",
        "    if self.mask is None:\n",
        "      self.mask = create_mask(batch_size, self.heads, temp_att.shape[2], temp_att.shape[3])\n",
        "    temp_att = temp_att + self.mask\n",
        "    z = torch.softmax(temp_att, dim = -1)\n",
        "    # z -> batch_size, head, seq_len (in Q), seq_len (in K)\n",
        "    out = torch.einsum('bhst,bhtq->bhsq', z, V)\n",
        "    out = out.permute(0, 2, 1, 3).contiguous().view(batch_size, seq_len, self.heads * self.dv)\n",
        "    out = torch.einsum('bsd,od->bso', out, self.W_O)  #-> batch_size, seq_len, dmodel\n",
        "    return out"
      ],
      "metadata": {
        "id": "fkRKwCzY_uOA"
      },
      "execution_count": 355,
      "outputs": []
    },
    {
      "cell_type": "markdown",
      "source": [
        "* Implement the FFN and OutputLayer modules (same as the one you implemented for encoder)"
      ],
      "metadata": {
        "id": "HkWY1xuzbV1Z"
      }
    },
    {
      "cell_type": "code",
      "source": [
        "class FFN(nn.Module):\n",
        "    def __init__(self, dmodel, d_ff):\n",
        "        super(FFN, self).__init__()\n",
        "\n",
        "        # First linear layer maps dmodel -> d_ff\n",
        "        self.linear1 = nn.Linear(dmodel, d_ff)\n",
        "\n",
        "        # Second linear layer maps d_ff -> dmodel\n",
        "        self.linear2 = nn.Linear(d_ff, dmodel)\n",
        "\n",
        "    def forward(self, x):\n",
        "        # First linear layer followed by ReLU activation\n",
        "        x = F.relu(self.linear1(x))\n",
        "\n",
        "        # Second linear layer\n",
        "        out = self.linear2(x)\n",
        "        #print(\"Size of output from FFN layer is\\n\", out.size())for debugging\n",
        "        return out"
      ],
      "metadata": {
        "id": "WriFqQWHAGZm"
      },
      "execution_count": 356,
      "outputs": []
    },
    {
      "cell_type": "code",
      "source": [
        "class OutputLayer(nn.Module):\n",
        "    def __init__(self, dmodel, vocab_size):\n",
        "        super(OutputLayer, self).__init__()\n",
        "\n",
        "        # Linear layer mapping dmodel -> vocab_size to predict token IDs\n",
        "        self.linear = nn.Linear(dmodel, vocab_size)\n",
        "\n",
        "    def forward(self, x):\n",
        "        # Apply linear layer to project to vocab size\n",
        "        out = self.linear(x)\n",
        "        #print(\"Size of output from Output layer is\\n\", out.size())for debugging\n",
        "        return out"
      ],
      "metadata": {
        "id": "sZ8mE5xQbzh2"
      },
      "execution_count": 357,
      "outputs": []
    },
    {
      "cell_type": "markdown",
      "source": [
        "* Implement the final decoder layer."
      ],
      "metadata": {
        "id": "htg7Hx-Kb1_h"
      }
    },
    {
      "cell_type": "code",
      "source": [
        "class DecoderLayer(nn.Module):\n",
        "\n",
        "  def __init__(self,dmodel,dq,dk,dv,d_ff,heads,mask=None):\n",
        "    super(DecoderLayer,self).__init__()\n",
        "    self.mhma = MHMA(dmodel,dq,dk,dv,heads,mask=None)\n",
        "    self.mhca = MHCA(dmodel,dq,dk,dv,heads)\n",
        "    self.layer_norm_mhma = torch.nn.LayerNorm(dmodel)\n",
        "    self.layer_norm_mhca = torch.nn.LayerNorm(dmodel)\n",
        "    self.layer_norm_ffn = torch.nn.LayerNorm(dmodel)\n",
        "    self.ffn = FFN(dmodel,d_ff)\n",
        "\n",
        "  def forward(self, enc_rep, x):\n",
        "    mask_att = self.mhma(x)\n",
        "    mask_att = self.layer_norm_mhma(mask_att + x)\n",
        "\n",
        "    cross_att = self.mhca(enc_rep, mask_att)\n",
        "    cross_att = self.layer_norm_mhca(cross_att + mask_att)\n",
        "\n",
        "    out = self.ffn(cross_att)\n",
        "    out = self.layer_norm_ffn(out + cross_att)\n",
        "\n",
        "    return out\n",
        "\n"
      ],
      "metadata": {
        "id": "y3KrOhIj_1YF"
      },
      "execution_count": 358,
      "outputs": []
    },
    {
      "cell_type": "markdown",
      "source": [
        "* Create an embedding layer that takes in token_ids and return embeddings for the token_ids\n",
        "\n",
        " * Use seed value: 70"
      ],
      "metadata": {
        "id": "0on1cUNEcEt5"
      }
    },
    {
      "cell_type": "code",
      "source": [
        "class Embed(nn.Module):\n",
        "    def __init__(self, vocab_size, embed_dim):\n",
        "        super(Embed, self).__init__()\n",
        "        # Set the random seed for reproducibility\n",
        "        torch.manual_seed(70)\n",
        "        # Define the embedding layer\n",
        "        self.embed = nn.Embedding(vocab_size, embed_dim)\n",
        "\n",
        "    def forward(self, x):\n",
        "        # Look up the embedding for the token IDs\n",
        "        out = self.embed(x)\n",
        "        return out\n"
      ],
      "metadata": {
        "id": "0a--wC-_Tf_W"
      },
      "execution_count": 359,
      "outputs": []
    },
    {
      "cell_type": "markdown",
      "source": [
        "# Decoder\n",
        "\n",
        " * Implement the decoder that has `num_layers` decoder layers"
      ],
      "metadata": {
        "id": "Xr3nTQP5d2zl"
      }
    },
    {
      "cell_type": "code",
      "source": [
        "class Decoder(nn.Module):\n",
        "\n",
        "  def __init__(self,vocab_size,dmodel,dq,dk,dv,d_ff,heads,mask,num_layers=1):\n",
        "    super(Decoder,self).__init__()\n",
        "    self.embed_lookup = Embed(vocab_size, dmodel)\n",
        "    self.dec_layers = DecoderLayer(dmodel,dq,dk,dv,d_ff,heads,mask)\n",
        "    self.out = OutputLayer(dmodel,vocab_size)\n",
        "    self.num_layers = num_layers\n",
        "\n",
        "  def forward(self,enc_rep,tar_token_ids):\n",
        "    x = self.embed_lookup(tar_token_ids)\n",
        "\n",
        "    for i in range(self.num_layers):\n",
        "      x = self.dec_layers(enc_rep,x)\n",
        "\n",
        "    out = self.out(x)\n",
        "    return out"
      ],
      "metadata": {
        "id": "SYRrxMkpBzAe"
      },
      "execution_count": 360,
      "outputs": []
    },
    {
      "cell_type": "markdown",
      "source": [
        "* Representation from encoder\n",
        "\n",
        " * Since all the decoder layers require the representation from the encoder to compute cross attention, we are going to feed in the random values (Note, it does not require gradient during training)"
      ],
      "metadata": {
        "id": "lyZYR7NkCYh_"
      }
    },
    {
      "cell_type": "code",
      "source": [
        "# do not edit this\n",
        "enc_rep = torch.randn(size=(batch_size,seq_len,embed_dim),generator=torch.random.manual_seed(10))"
      ],
      "metadata": {
        "id": "-rOysYMjB-af"
      },
      "execution_count": 361,
      "outputs": []
    },
    {
      "cell_type": "markdown",
      "source": [
        "# Instantiate the model"
      ],
      "metadata": {
        "id": "tpLKJVXnGbbf"
      }
    },
    {
      "cell_type": "code",
      "source": [
        "model = Decoder(vocab_size,dmodel,dq,dk,dv,d_ff,heads,mask=None)"
      ],
      "metadata": {
        "id": "aeG9CjI_GcsP"
      },
      "execution_count": 362,
      "outputs": []
    },
    {
      "cell_type": "code",
      "source": [
        "criterion = nn.CrossEntropyLoss()\n",
        "optimizer = optim.SGD(model.parameters(), lr=0.01)"
      ],
      "metadata": {
        "id": "aebVyW-9LhcP"
      },
      "execution_count": 363,
      "outputs": []
    },
    {
      "cell_type": "code",
      "source": [
        "import matplotlib.pyplot as plt\n",
        "def train(enc_rep,tar_token_ids,label_ids,epochs=1000):\n",
        "  loss_trace = []\n",
        "  for epoch in range(epochs):\n",
        "    out = model(enc_rep,tar_token_ids)\n",
        "    loss = criterion(out.view(-1,vocab_size),tar_token_ids.view(-1))\n",
        "    loss_trace.append(loss.item())\n",
        "    if (epoch + 1) % 100 == 0:\n",
        "      print(f'Loss in epoch - {epoch + 1} is {loss.item()}')\n",
        "\n",
        "    #backprop\n",
        "    loss.backward()\n",
        "\n",
        "    #update parameters\n",
        "    optimizer.step()\n",
        "    optimizer.zero_grad()\n",
        "  # Plot the loss curve\n",
        "  plt.plot(range(epochs), loss_trace, label='Loss in Training')\n",
        "  plt.xlabel('Epochs')\n",
        "  plt.ylabel('Loss')\n",
        "  plt.title('Loss vs. Epochs')\n",
        "  plt.legend()\n",
        "  plt.grid()\n",
        "  plt.show()\n"
      ],
      "metadata": {
        "id": "8npNWRJ7tWRc"
      },
      "execution_count": 364,
      "outputs": []
    },
    {
      "cell_type": "markdown",
      "source": [
        "* Train the model for 1000 epochs"
      ],
      "metadata": {
        "id": "lXLdvUVKgU3h"
      }
    },
    {
      "cell_type": "code",
      "source": [
        "print(token_ids)"
      ],
      "metadata": {
        "colab": {
          "base_uri": "https://localhost:8080/"
        },
        "id": "uziigMcW37Nb",
        "outputId": "9870f089-7682-4607-a116-90406393a153"
      },
      "execution_count": 365,
      "outputs": [
        {
          "output_type": "stream",
          "name": "stdout",
          "text": [
            "tensor([[ 0,  7,  8,  7,  7,  9,  2,  6],\n",
            "        [ 0, 10,  1, 10,  5,  3,  6,  8],\n",
            "        [ 0,  3,  4,  8,  2, 10, 10, 10],\n",
            "        [ 0,  4, 10,  1,  3,  4,  9,  7],\n",
            "        [ 0,  8,  4,  7,  3,  8, 10,  5],\n",
            "        [ 0,  9,  1,  8,  5,  9,  9, 10],\n",
            "        [ 0,  7,  3,  8,  2,  5,  1,  5],\n",
            "        [ 0,  3,  3,  2,  1,  4,  1,  1],\n",
            "        [ 0, 10,  9,  9,  9,  6,  9,  2],\n",
            "        [ 0,  3,  6,  6,  3,  5,  4,  5]])\n"
          ]
        }
      ]
    },
    {
      "cell_type": "code",
      "source": [
        "train(enc_rep,token_ids,label_ids,1000)"
      ],
      "metadata": {
        "id": "svrd7-yHtpme",
        "colab": {
          "base_uri": "https://localhost:8080/",
          "height": 646
        },
        "outputId": "f3c231b4-9860-435d-f3d7-ec4513d18511"
      },
      "execution_count": 366,
      "outputs": [
        {
          "output_type": "stream",
          "name": "stdout",
          "text": [
            "Loss in epoch - 100 is 1.9553331136703491\n",
            "Loss in epoch - 200 is 1.5987522602081299\n",
            "Loss in epoch - 300 is 1.3345513343811035\n",
            "Loss in epoch - 400 is 1.1080904006958008\n",
            "Loss in epoch - 500 is 0.9179724454879761\n",
            "Loss in epoch - 600 is 0.752234697341919\n",
            "Loss in epoch - 700 is 0.6063960790634155\n",
            "Loss in epoch - 800 is 0.4804282784461975\n",
            "Loss in epoch - 900 is 0.3756326138973236\n",
            "Loss in epoch - 1000 is 0.28967761993408203\n"
          ]
        },
        {
          "output_type": "display_data",
          "data": {
            "text/plain": [
              "<Figure size 640x480 with 1 Axes>"
            ],
            "image/png": "[encoded data removed]"
          },
          "metadata": {}
        }
      ]
    },
    {
      "cell_type": "code",
      "source": [
        "with torch.inference_mode():\n",
        "  predictions = torch.argmax(model(enc_rep,token_ids),dim=-1)"
      ],
      "metadata": {
        "id": "M6PLInPW0JIF"
      },
      "execution_count": 367,
      "outputs": []
    },
    {
      "cell_type": "markdown",
      "source": [
        "* The loss will be around 0.17 after 1000 epochs"
      ],
      "metadata": {
        "id": "TsA-osXehjEK"
      }
    },
    {
      "cell_type": "code",
      "source": [
        "# number of correct predictions\n",
        "# print(torch.count_nonzero(label_ids==predictions[:,0:-1]))\n",
        "\n",
        "print(torch.count_nonzero(label_ids==predictions[:,1:]))"
      ],
      "metadata": {
        "id": "hbnfyb5thxCP",
        "colab": {
          "base_uri": "https://localhost:8080/"
        },
        "outputId": "f7409e6c-ce07-4798-9e80-c4180ca29bd1"
      },
      "execution_count": 368,
      "outputs": [
        {
          "output_type": "stream",
          "name": "stdout",
          "text": [
            "tensor(69)\n"
          ]
        }
      ]
    },
    {
      "cell_type": "markdown",
      "source": [
        "* THe number of correct predictions is close to 66"
      ],
      "metadata": {
        "id": "UXTPr2pd6tfo"
      }
    },
    {
      "cell_type": "code",
      "source": [],
      "metadata": {
        "id": "-c7a_euNJB11"
      },
      "execution_count": 368,
      "outputs": []
    }
  ]
}